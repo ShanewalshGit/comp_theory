{
 "cells": [
  {
   "cell_type": "markdown",
   "metadata": {},
   "source": [
    "# Computational Theory - Shane Walsh - G00406694\n",
    "\n",
    "# Task 1: Binary Representations"
   ]
  },
  {
   "cell_type": "markdown",
   "metadata": {},
   "source": [
    "## Binary Representations\n",
    "So for this task we are required to create various python functions and demonstrate their use with examples and tests. There are four functions in total, two focus on the process of rotating bits in a 32-bit unsigned integer to the left and right places. Another explores the implementation of a function that chooses the bits from y where x has bits set to 1 and bits in z where x has bits set to 0.\n",
    "The last function focuses on developing a function that takes a majority vote of the bits in x, y and z."
   ]
  },
  {
   "cell_type": "markdown",
   "metadata": {},
   "source": [
    "## 1. The function rotl(x, n=1)\n",
    "\n",
    "This function goes through a process of rotating bits in a 32-bit unsigned integer to a direction. In this case, to the left by a set number (such as 1 or 2) of positions. To implement this, we first need to understand the syntax for Bitwise shifting and what it is.\n",
    "\n",
    "Bitwise shifting is a fundamental operation in computational theory that involves the manipulation of data at the binary level, like we're doing for these functions. \n",
    "\n",
    "At its core, it involves moving all the bits in a binary number left or right by a specified degree of positions. This primarily involves two different operations: \n",
    "\n",
    "### Bitwise left shift: <<\n",
    "\n",
    "So when left shifting, each bit in the binary string moves n positions to the left, the positions farthest to the right are then replaced with zeros. \n",
    "\n",
    "### Bitwise right shift: >>\n",
    "\n",
    "For right shifting, its basically the same process inverted. Each bit moves n positions right, and the positions fartest to the left are filled with zeros. \n",
    "\n",
    "Bitwise shifting is a fundamental operation described in detail in:\n",
    "- [Bit Manipulation - Stanford CS Education Library](https://graphics.stanford.edu/~seander/bithacks.html)\n",
    "- [Bitwise Operations - Computer Systems: A Programmer's Perspective](https://dl.ebooksworld.ir/books/Computer.Systems.A.Programmers.Perspective.3rd.Edition.Pearson.9780134092669.EBooksWorld.ir.pdf)"
   ]
  },
  {
   "cell_type": "code",
   "execution_count": 156,
   "metadata": {},
   "outputs": [
    {
     "name": "stdout",
     "output_type": "stream",
     "text": [
      "Base value of X: 0b1100\n",
      "Shifted to the left by 2: 0b110000\n",
      "Shifted to the right by 2: 0b11\n"
     ]
    }
   ],
   "source": [
    "# Bitwise shifting of a number\n",
    "x = 0b1100\n",
    "print(\"Base value of X: \" + bin(x)) # Base value\n",
    "print(\"Shifted to the left by 2: \" + bin(x << 2)) # Shift left by 2\n",
    "print(\"Shifted to the right by 2: \" + bin(x >> 2)) # Shift right by 2\n"
   ]
  },
  {
   "cell_type": "markdown",
   "metadata": {},
   "source": [
    "A fun little note, left-shifting by 1 is equal to multiplying by 2, while a shift of 2 is equal to multiplying by 4. This continues upwards linearly, by 2^n.\n",
    "\n",
    "This is similar with left-shifting but division instead. 1 bit shift right is equal to dividing by 2 and continues upwards, by 2^n."
   ]
  },
  {
   "cell_type": "markdown",
   "metadata": {},
   "source": [
    "### Masking\n",
    "\n",
    "Now in my opinion its important that to avoid losing any bits during the shift process, we use what's known as masking. This ensures that our result doesn't grow larger by mistake and maintains the 32 bit size of my result.\n",
    "\n",
    "As seen in the example below, we use a 32-bit constraint using \"& 0xFFFFFFFF\" with our number to mask it. This is crucial for our bit rotations. "
   ]
  },
  {
   "cell_type": "code",
   "execution_count": 157,
   "metadata": {},
   "outputs": [
    {
     "name": "stdout",
     "output_type": "stream",
     "text": [
      "\n",
      "32-bit overflow example:\n",
      "Number exceeding 32 bits: 0x100000000 (33 bits)\n",
      "After applying 32-bit mask: 0x0 (32 bits)\n"
     ]
    }
   ],
   "source": [
    "# Masking in action\n",
    "large_number = 0xFFFFFFFF + 1  # This would be 2^32, exceeding 32 bits\n",
    "masked_number = large_number & 0xFFFFFFFF\n",
    "print(f\"\\n32-bit overflow example:\")\n",
    "print(f\"Number exceeding 32 bits: {hex(large_number)} (33 bits)\")\n",
    "print(f\"After applying 32-bit mask: {hex(masked_number)} (32 bits)\")"
   ]
  },
  {
   "cell_type": "markdown",
   "metadata": {},
   "source": [
    "### Bitwise Operations\n",
    "The final step to tie this together is by using bitwise operations, which are your classic AND, OR, NOT and XOR gates. These allow us to control our results dynamically by manipulating individual bits. \n",
    "\n",
    "Personally I think these are great for efficiency, typically acting faster than normal arithmetic operations. They allow for direct manipulation of memory and registers and are able to store multiple boolean valuables for singular integers. Within Cryptography, they form the basis of many algorithms such as SHA-256, as we'll see later. \n",
    "\n",
    "These bitwise operations form the foundation of digital logic and are explained in:\n",
    "-  [*Digital Design and Computer Architecture* (3rd ed.), Chapter 1.4: Boolean Algebra and Logic Gates.](https://allbooksfordownloading.wordpress.com/wp-content/uploads/2017/01/digital-design-and-computer-architecture-by-david-and-sarah-harris.pdf)\n",
    "- Python Documentation: [Bitwise Operations](https://docs.python.org/3/library/stdtypes.html#bitwise-operations-on-integer-types)"
   ]
  },
  {
   "cell_type": "code",
   "execution_count": 158,
   "metadata": {},
   "outputs": [
    {
     "name": "stdout",
     "output_type": "stream",
     "text": [
      "x | y: 0b1110 (decimal: 14)\n",
      "x & y: 0b1000 (decimal: 8)\n",
      "x ^ y: 0b110 (decimal: 6)\n",
      "~x: -0b1101 (decimal: -13)\n"
     ]
    }
   ],
   "source": [
    "# Examples of bitwise operations\n",
    "x = 0b1100 # Binary representation of 12\n",
    "y = 0b1010 # Binary representation of 10\n",
    "\n",
    "# OR - bits are set if either bit is set\n",
    "result_or = x | y\n",
    "print(f\"x | y: {bin(result_or)} (decimal: {result_or})\")\n",
    "\n",
    "# AND - bits are set if both bits are set\n",
    "result_and = x & y\n",
    "print(f\"x & y: {bin(result_and)} (decimal: {result_and})\")\n",
    "\n",
    "# XOR - bits are set if only one bit is set\n",
    "result_xor = x ^ y\n",
    "print(f\"x ^ y: {bin(result_xor)} (decimal: {result_xor})\")\n",
    "\n",
    "# NOT - bits are inverted\n",
    "result_not = ~x\n",
    "print(f\"~x: {bin(result_not)} (decimal: {result_not})\")"
   ]
  },
  {
   "cell_type": "markdown",
   "metadata": {},
   "source": [
    "In the end our rotation function looks like the following. It shifts bits left by n positions with (x << n). It then shifts bits that would be lost when shifting left, to the right with (x >> (32 - n)). We put an OR operator between these to combine them. Lastly, we use an AND operator to bring in our masking for ensuring the result stays at 32 bits. "
   ]
  },
  {
   "cell_type": "code",
   "execution_count": 159,
   "metadata": {},
   "outputs": [
    {
     "name": "stdout",
     "output_type": "stream",
     "text": [
      "rotl(0b1100, 2): 0b110000\n",
      "rotl(0b1100, 3): 0b1100000\n"
     ]
    }
   ],
   "source": [
    "import numpy as np\n",
    "import math\n",
    "\n",
    "def rotl(x, n=1):\n",
    "    return ((x << n) | (x >> (32 - n))) & 0xFFFFFFFF # << shifts the bits to left, >> shifts the bits to right.\n",
    "\n",
    "x = 0b1100\n",
    "print(f'rotl(0b1100, 2): {bin(rotl(x, 2))}')\n",
    "print(f'rotl(0b1100, 3): {bin(rotl(x, 3))}')"
   ]
  },
  {
   "cell_type": "markdown",
   "metadata": {},
   "source": [
    "### Demonstrating the use of Rotl(x, n=1) "
   ]
  },
  {
   "cell_type": "code",
   "execution_count": 160,
   "metadata": {},
   "outputs": [
    {
     "name": "stdout",
     "output_type": "stream",
     "text": [
      "Demonstrating rotl(0b10101010, 4)\n",
      "2720\n",
      "Demonstrating rotl(0b10101010, 1) - Single bit rotation\n",
      "340\n",
      "Demonstrating rotl with a larger number\n",
      "3454997163\n"
     ]
    }
   ],
   "source": [
    "x = 0b10101010  # 170 in decimal\n",
    "n = 4\n",
    "\n",
    "print(f\"Demonstrating rotl({bin(x)}, {n})\")\n",
    "print(rotl(x, n))\n",
    "\n",
    "# Additional examples with different n values\n",
    "print(f\"Demonstrating rotl({bin(x)}, 1) - Single bit rotation\")\n",
    "print(rotl(x, 1))  # Rotate by 1 bit\n",
    "\n",
    "print(f\"Demonstrating rotl with a larger number\")\n",
    "large_num = 0xABCDEF12  # A larger hex number\n",
    "print(rotl(large_num, 8))  # Rotate by a byte"
   ]
  },
  {
   "cell_type": "markdown",
   "metadata": {},
   "source": [
    "## 2. The function rotr(x, n=1)"
   ]
  },
  {
   "cell_type": "markdown",
   "metadata": {},
   "source": [
    "Rotr largely works the same as rotl in its construction, just with bitwise operations inverted to go the opposite direction. "
   ]
  },
  {
   "cell_type": "code",
   "execution_count": 161,
   "metadata": {},
   "outputs": [
    {
     "name": "stdout",
     "output_type": "stream",
     "text": [
      "rotr(0b1100, 2): 0b11\n"
     ]
    }
   ],
   "source": [
    "def rotr(x, n=1):\n",
    "    return (x >> n) | ((x << (32 - n)) & 0xFFFFFFFF)\n",
    "\n",
    "x = 0b1100\n",
    "\n",
    "# Test the function.\n",
    "print(f'rotr(0b1100, 2): {bin(rotr(x, 2))}')"
   ]
  },
  {
   "cell_type": "markdown",
   "metadata": {},
   "source": [
    "### Applications of Bit Shifts and Rotation\n",
    "The bit shifting and rotations seen in these functions is used in various aspects of technology. As mentioned, bit rotation is fundamental to Cryptography. They're both also used for graphics processing, particularly image manipulation and they're used in embedded systems when resources for the hardware is quite limited. \n",
    "\n",
    "The bit rotation functions implemented here are similar to those used in cryptographic algorithms:\n",
    "- NIST (2015). *FIPS PUB 180-4: Secure Hash Standard (SHS)*. National Institute of Standards and Technology. [https://doi.org/10.6028/NIST.FIPS.180-4](https://doi.org/10.6028/NIST.FIPS.180-4) \n",
    "- *RFC 3174: US Secure Hash Algorithm 1 (SHA1)*, Section 3: Operations on Words. [https://tools.ietf.org/html/rfc3174#section-3](https://tools.ietf.org/html/rfc3174#section-3)"
   ]
  },
  {
   "cell_type": "markdown",
   "metadata": {},
   "source": [
    "## 3. The function ch(x, y, z)"
   ]
  },
  {
   "cell_type": "markdown",
   "metadata": {},
   "source": [
    "For this function we need to make use of bit selection logic using bitwise operators on our chosen binary values. In this particular implementation: \n",
    "\n",
    "- For each bit position of x being 1, we choose the associated or corresponding bit from y.\n",
    "- For each bit position of x being 0, we choose the corresponding bit from z.\n",
    "\n",
    "This is an important concept in my opinion, its used in cryptographic hash functions like SHA-256 and the like. Its often referred to as a nonlinear mixing function.\n",
    "\n",
    "Let me further break down how to accomplish this: \n",
    "- Using (x & y) will take bits from y where x has 1s.\n",
    "- Using  (~x & z) inverts the x and then performs an AND bitwise operation with z. This keeps only bits where x has 0s.\n",
    "- Lastly, the use of ^ (XOR) combines the results from both, giving us a mix of bits from y and z based on the values from x. \n",
    "\n",
    "The ch function is a core component of SHA-256 and other cryptographic hash functions:\n",
    "- NIST (2015). *FIPS PUB 180-4: Secure Hash Standard (SHS)*, Section 4.1.2: SHA-256 Functions. [https://doi.org/10.6028/NIST.FIPS.180-4](https://doi.org/10.6028/NIST.FIPS.180-4)\n",
    "- *Understanding Cryptography: A Textbook for Students and Practitioners*, Chapter 11: Hash Functions. [https://doi.org/10.1007/978-3-642-04101-3](https://doi.org/10.1007/978-3-642-04101-3)"
   ]
  },
  {
   "cell_type": "code",
   "execution_count": 162,
   "metadata": {},
   "outputs": [
    {
     "name": "stdout",
     "output_type": "stream",
     "text": [
      "ch(0b1100, 0b1010, 0b1001): 0b1001\n"
     ]
    }
   ],
   "source": [
    "def ch(x, y, z): # choose between x, y, z. \n",
    "    return (x & y) ^ (~x & z) # & is bitwise AND, ^ is bitwise XOR, ~ is bitwise NOT. So this returns x AND y XOR NOT x AND z.\n",
    "\n",
    "x = 0b1100\n",
    "y = 0b1010\n",
    "z = 0b1001\n",
    "\n",
    "print(f'ch(0b1100, 0b1010, 0b1001): {bin(ch(x, y, z))}')"
   ]
  },
  {
   "cell_type": "code",
   "execution_count": 163,
   "metadata": {},
   "outputs": [
    {
     "name": "stdout",
     "output_type": "stream",
     "text": [
      "ch(0b1111, 0b0000, 0b1111): 0b0\n",
      "ch(0b1010, 0b1100, 0b0110): 0b1100\n"
     ]
    }
   ],
   "source": [
    "# Example of using the ch function with different values\n",
    "x = 0b1111\n",
    "y = 0b0000\n",
    "z = 0b1111\n",
    "print(f\"ch(0b1111, 0b0000, 0b1111): {bin(ch(x, y, z))}\") # Should return 0b0000\n",
    "\n",
    "x = 0b1010\n",
    "y = 0b1100\n",
    "z = 0b0110\n",
    "print(f\"ch(0b1010, 0b1100, 0b0110): {bin(ch(x, y, z))}\") # Should return 0b1100"
   ]
  },
  {
   "cell_type": "markdown",
   "metadata": {},
   "source": [
    "## 4. The function maj(x, y, z)\n",
    "\n",
    "This function is akin to a voting system through boolean logic. It returns 1 if and only if more than half of the inputs are 1. In this case, since we have three inputs, at least two must be 1.\n",
    "\n",
    "Breaking this down:\n",
    "- Using (x & y), we set bits where both x AND y have 1s present.\n",
    "- Using (x & z), we set bits where both x AND z have 1s.\n",
    "- Using (y & z), we set bits where both y AND z have 1s.\n",
    "Lastly, these are XORed together to keep it as a majority logic.\n",
    "\n",
    "The majority function is seen across SHA-256 and other secure hash algorithms for its non-linear behaviour that's great for resisting crypto analysis, for its balanced nature and for the Avalache Effect: where small input changes can lead to extensive output changes. Its very worth exploring how its implemented I think.\n",
    "\n",
    "The majority function (maj) is specified in the SHA-256 algorithm:\n",
    "- NIST (2015). *FIPS PUB 180-4: Secure Hash Standard (SHS)*, Section 4.1.2: SHA-256 Functions. [https://doi.org/10.6028/NIST.FIPS.180-4](https://doi.org/10.6028/NIST.FIPS.180-4)\n",
    "- *SHA-3 Standard: Permutation-Based Hash and Extendable-Output Functions*. [https://doi.org/10.6028/NIST.FIPS.202](https://doi.org/10.6028/NIST.FIPS.202)"
   ]
  },
  {
   "cell_type": "code",
   "execution_count": 164,
   "metadata": {},
   "outputs": [
    {
     "name": "stdout",
     "output_type": "stream",
     "text": [
      "maj(0b1100, 0b1010, 0b1001): 0b1000\n",
      "maj(0b1100, 0b1010, 0b1010): 0b1010\n",
      "maj(0b1111, 0b0000, 0b1111): 0b1111\n"
     ]
    }
   ],
   "source": [
    "def maj(x, y, z): # Takes a majority vote of x, y, z.\n",
    "    return (x & y) ^ (x & z) ^ (y & z) # ^ means XOR. So this returns x AND y XOR x AND z XOR y AND z.\n",
    "\n",
    "x = 0b1100\n",
    "y = 0b1010\n",
    "z = 0b1001\n",
    "\n",
    "x1 = 0b1100\n",
    "y1 = 0b1010\n",
    "z1 = 0b1010\n",
    "\n",
    "x2 = 0b1111\n",
    "y2 = 0b0000\n",
    "z2 = 0b1111\n",
    "\n",
    "# Examples\n",
    "print(f'maj(0b1100, 0b1010, 0b1001): {bin(maj(x, y, z))}')\n",
    "print(f'maj(0b1100, 0b1010, 0b1010): {bin(maj(x1, y1, z1))}')\n",
    "print(f'maj(0b1111, 0b0000, 0b1111): {bin(maj(x2, y2, z2))}')"
   ]
  },
  {
   "cell_type": "markdown",
   "metadata": {},
   "source": [
    "# Task 2: Hash Functions"
   ]
  },
  {
   "cell_type": "markdown",
   "metadata": {},
   "source": [
    "### What are Hash Functions?\n",
    "\n",
    "They are algorithms that transform input data from any arbitrary size into a fixed-size value instead. This will usually involve a string of characters or a number. The process is deterministic in nature, which means the same input will always grant you the same output. \n",
    "Adjacent to this, you could also say its collision resistant, where different inputs should rarely if ever grant you the same output. \n",
    "Generally its fast to compute and the distribution of values is spread evenly across the total range of possibilities. \n",
    "\n",
    "- *Introduction to Algorithms* (3rd ed.), Chapter 11: Hash Tables. MIT Press. [https://mitpress.mit.edu/books/introduction-algorithms-third-edition](https://mitpress.mit.edu/books/introduction-algorithms-third-edition)\n",
    "- *NIST Special Publication 800-107: Recommendation for Applications Using Approved Hash Algorithms*. [https://nvlpubs.nist.gov/nistpubs/Legacy/SP/nistspecialpublication800-107r1.pdf](https://nvlpubs.nist.gov/nistpubs/Legacy/SP/nistspecialpublication800-107r1.pdf)\n",
    "\n",
    "### Conversion From C\n",
    "\n",
    "I'll now convert the [specified hash function from the C Programming language](https://github.com/ianmcloughlin/computational_theory/blob/main/assessment/tasks.md) to python. This will require quite a few changes to the code but in my opinion it should be doable. Luckily, we don't need to declare variable types. While the hash function in C uses pointer's and null terminator checking, Python makes this much simpler as we can just iterate directly over the string. The Hash function that we're converting in this process is from page 128 - 129 of [The C Programming Language](https://seriouscomputerist.atariverse.com/media/pdf/book/C%20Programming%20Language%20-%202nd%20Edition%20(OCR).pdf) by Brian Kernighan and Dennis Ritchie."
   ]
  },
  {
   "cell_type": "code",
   "execution_count": 165,
   "metadata": {},
   "outputs": [],
   "source": [
    "def Hash_string(s): # No need to declare var, just use it with the input, no pointer.\n",
    "    hashval = 0 # No use of 'unsigned' in Python.\n",
    "    # Iterate directly over string.\n",
    "    for c in s:\n",
    "        hashval = ord(c) + 31 * hashval # ord() returns ASCII value of char, 31 is prime number, good for hashing.\n",
    "    return hashval % 101 # Modulus is unchanged, 101 is prime number, reduces collisions."
   ]
  },
  {
   "cell_type": "markdown",
   "metadata": {},
   "source": [
    "The final conversion would look like this. Rather than dereferencing the character pointer in C, we can use Python's [ord() function](https://docs.python.org/3.4/library/functions.html#ord) to pull out the relevant [ASCII value](https://www.ascii-code.com/) of a character. The modulus element on the hashVal has no necessary changes."
   ]
  },
  {
   "cell_type": "markdown",
   "metadata": {},
   "source": [
    "### Using Prime Numbers in Hash\n",
    "\n",
    "The numbers 31 and 101 are prime numbers. To my knowledge, using prime numbers for hash values gives us a smoother distribution. 31 is proven to produce very few collisions with English text.\n",
    "101 helps determine our hash table size and reduce collisions which can quite easily come up. Its small enough that it'll still be efficient in regards to memory usage but large enough for collision reduction.\n",
    "\n",
    "- [*The Art of Computer Programming, Volume 3: Sorting and Searching* (2nd ed.), Section 6.4: Hashing. Addison-Wesley.](https://www-cs-faculty.stanford.edu/~knuth/taocp.html)\n",
    "- [*Hash function related summations*. Journal of Algorithms, 64(1), 41-50. ](https://ieeexplore.ieee.org/stamp/stamp.jsp?arnumber=9118906)\n",
    "- [*Hash Functions for Hash Table Lookup*. ](http://www.burtleburtle.net/bob/hash/doobs.html)"
   ]
  },
  {
   "cell_type": "code",
   "execution_count": 166,
   "metadata": {},
   "outputs": [
    {
     "name": "stdout",
     "output_type": "stream",
     "text": [
      "Hash_string(\"hello\"): 17\n",
      "Hash_string(\"world\"): 34\n",
      "Hash_string(\"hello world\"): 13\n"
     ]
    }
   ],
   "source": [
    "# Testing Hash function\n",
    "print(f'Hash_string(\"hello\"): {Hash_string(\"hello\")}')\n",
    "print(f'Hash_string(\"world\"): {Hash_string(\"world\")}')\n",
    "print(f'Hash_string(\"hello world\"): {Hash_string(\"hello world\")}')"
   ]
  },
  {
   "cell_type": "markdown",
   "metadata": {},
   "source": [
    "### Some Background\n",
    "The K&R hash function (Kernighan and Ritchie) function comes from their book first published in 1978. This book is seminal for practically defining the C programming language and has many practical algorithms such as this hash function present within its pages. It was designed for a time when resources were more limited, its simple but efficient nature making it valuable in my opinion. Alternatives to this hash mainly include SHA-256 and Blake-2, both used for Cryptographic security. \n",
    "\n",
    "- [**SHA-256**: Designed by NSA, standardized by NIST in FIPS 180-4.](https://nvlpubs.nist.gov/nistpubs/FIPS/NIST.FIPS.180-4.pdf)\n",
    "- [**BLAKE2**: High-performance cryptographic hash function.](https://www.blake2.net/)\n",
    "- [*The First 30 Years of Cryptographic Hash Functions and the NIST SHA-3 Competition*. In Topics in Cryptology – CT-RSA 2010.](https://doi.org/10.1007/978-3-642-11925-5_1)"
   ]
  },
  {
   "cell_type": "markdown",
   "metadata": {},
   "source": [
    "# Task 3: SHA256"
   ]
  },
  {
   "cell_type": "markdown",
   "metadata": {},
   "source": [
    "So for this task, we need to calculate the SHA256 padding for a file supplied in the method as input. Ideally, I should adhere to the [NIST FIPS 180-4 specification](https://doi.org/10.6028/NIST.FIPS.180-4) during this process. In the end I'll be returning the padding as a collection of bytes."
   ]
  },
  {
   "cell_type": "markdown",
   "metadata": {},
   "source": [
    "### What is SHA256?\n",
    "It stands for Secure Hash Algorithm. Its a cryptographic hash function from the SHA-2 family which were developed by the National Security Agency (NSA). Publised in 2001 by the National Institute of Standards and Technology (NIST), it makes a fixed-size 256 bit (which is 32 bytes) hash value from any inputted data of a fairly arbitrary size. \n",
    "\n",
    "In relation to this implementation, padding is a part of the larger design of SHA256, but its very necessary in my opinion.\n",
    "- SHA256 processes data in these fixed-size blocks of 512 bits (64 bytes). For this, any message must be padded so that its length is also a multiple of 512 bits. \n",
    "- You can include the original length of the message in the padding to aid in certain cryptographic attacks (like extension attacks).\n",
    "- Padding ensures that messages always have different hash values when produced, even if they'd be identical otherwise after the addition of padding.\n",
    "\n",
    "SHA-256 is part of the SHA-2 family of cryptographic hash functions formally specified in:\n",
    "- [National Institute of Standards and Technology (2015). *FIPS PUB 180-4: Secure Hash Standard*.](https://doi.org/10.6028/NIST.FIPS.180-4)\n",
    "- [*RFC 6234: US Secure Hash Algorithms (SHA and SHA-based HMAC and HKDF)*. Internet Engineering Task Force.](https://tools.ietf.org/html/rfc6234)"
   ]
  },
  {
   "cell_type": "markdown",
   "metadata": {},
   "source": [
    "### Byte Handling\n",
    "To start on this task, we first need to read in the file as a collection of bytes. This is farely easy and self explanatory to implement. Right after that we calculate the original content length in bits. "
   ]
  },
  {
   "cell_type": "code",
   "execution_count": 167,
   "metadata": {},
   "outputs": [
    {
     "name": "stdout",
     "output_type": "stream",
     "text": [
      "Length of file in bits: 24\n"
     ]
    }
   ],
   "source": [
    "# Create a file called file.txt with our three bytes in it for example purposes.\n",
    "file = 'file.txt'\n",
    "\n",
    "with open(file, 'w') as f: # For testing purposes, write some text to a file.\n",
    "    f.write('abc')\n",
    "\n",
    "# Read in the file\n",
    "with open(file, 'rb') as f:\n",
    "    data = f.read()\n",
    "\n",
    "# Calculate length in bits of the file\n",
    "length = len(data) * 8\n",
    "\n",
    "print(f'Length of file in bits: {length}')"
   ]
  },
  {
   "cell_type": "markdown",
   "metadata": {},
   "source": [
    "### Apply Padding\n",
    "Following the length calculation, we should follow the SHA-256 specification for applying padding. First off, I'll add a single '1' bit as a hexidecimal (0x80). We need to add enough '0' bits so the total length of our file (including both the original length, the padding and 64 bits) is a multiple of 512 bits. \n",
    "\n",
    "Let me break this down to make it easier to understand: \n",
    "- The initial 1 we use indicates where the original message ends and our padding begins. For this code, we represent it as 0x80 (10000000 in binary ).\n",
    "- We then add the zero padding, enough to bring the total length up to 448 bits modulosed by 512. What this does is it holds on to exactly 64 bits at the end for the length of the message.\n",
    "- These 64 bits respresent the length of our original message, which helps us ensure different messages with their own lengths have different hashes. \n",
    "\n",
    "### Padding Specifications\n",
    "\n",
    "For more, the padding scheme described is detailed in:\n",
    "- [National Institute of Standards and Technology (2015). *FIPS PUB 180-4: Secure Hash Standard*, Section 5.1.1: Padding the Message.](https://doi.org/10.6028/NIST.FIPS.180-4)\n",
    "- [*Introduction to Modern Cryptography* (3rd ed.), Chapter 5: Message Authentication Codes. CRC Press.](https://doi.org/10.1201/9781351133036)"
   ]
  },
  {
   "cell_type": "code",
   "execution_count": 168,
   "metadata": {},
   "outputs": [],
   "source": [
    "# Add a '1' bit to the end of the data, in hex this would be 0x80 or 10000000 in python.\n",
    "padding = bytearray([0x80]) "
   ]
  },
  {
   "cell_type": "markdown",
   "metadata": {},
   "source": [
    "We use the following calculation to ensure we leave exactly 64 bits (or 8 bytes) at the end of the file. "
   ]
  },
  {
   "cell_type": "code",
   "execution_count": 169,
   "metadata": {},
   "outputs": [],
   "source": [
    "### Example Code here\n",
    "data = b'abc'  # Example data\n",
    "padding_needed = 56 - ((len(data) + 1) % 64)\n",
    "if padding_needed < 0:\n",
    "    padding_needed += 64"
   ]
  },
  {
   "cell_type": "markdown",
   "metadata": {},
   "source": [
    "Following this, we add back the original length of the file as a 64 bit big-endian unsigned integer. "
   ]
  },
  {
   "cell_type": "code",
   "execution_count": 170,
   "metadata": {},
   "outputs": [],
   "source": [
    "# mock values\n",
    "padding_zeros = padding_needed // 8 \n",
    "original_length = len(data) * 8 \n",
    "\n",
    "# Add original length of file in bits, this must be a 64 big-endian unsigned integer. So as to not overflow.\n",
    "padding.extend([0] * padding_zeros)\n",
    "padding.extend(original_length.to_bytes(8, byteorder='big'))"
   ]
  },
  {
   "cell_type": "markdown",
   "metadata": {},
   "source": [
    "### Final Implementation"
   ]
  },
  {
   "cell_type": "code",
   "execution_count": 171,
   "metadata": {},
   "outputs": [],
   "source": [
    "### Final Sha256 Method\n",
    "\n",
    "# Calculate the SHA256 padding of a string from a giving file.\n",
    "def SHA256_padding(file):\n",
    "    # Read in the file\n",
    "    with open(file, 'rb') as f:\n",
    "        data = f.read()\n",
    "\n",
    "    # Calculate length in bits of the file, multiply by 8 to get bits as there is 8 bits in a byte.\n",
    "    original_length = len(data) * 8\n",
    "\n",
    "    # Add a '1' bit to the end of the data, in hex this would be 0x80 or 10000000 in python.\n",
    "    padding = bytearray([0x80])\n",
    "\n",
    "    # Add enough '0' bits so the total length is 448 mod 512 bits.\n",
    "    # So the original length + 1 + padding) % 64 = 56, we need 56 to be the remainder. \n",
    "    padding_zeros = 56 - ((len(data) + 1) % 64)\n",
    "    # if we reach the 56-bye mark, add another block. So we dynamically add padding needed to the file. \n",
    "    if padding_zeros < 0:\n",
    "        padding_zeros += 64. # This is the number of bytes needed to reach 448 mod 512.\n",
    "\n",
    "    # Add original length of file in bits, this must be a 64 big-endian unsigned integer. So as to not overflow.\n",
    "    padding.extend([0] * padding_zeros)\n",
    "    padding.extend(original_length.to_bytes(8, byteorder='big'))\n",
    "\n",
    "\n",
    "    # Print this padding in hexidecimal. \n",
    "    print(\"SHA256 padding in hexidecimal format: \")\n",
    "    for i, byte in enumerate(padding):\n",
    "        print(f'{byte:02x}', end=' ')\n",
    "        if (i + 1) % 25 == 0: # Print 25 bytes per line for simplicity and readability.\n",
    "            print()\n",
    "        if len(padding) % 25 != 0:\n",
    "            print() # Print a newline if the padding is not a multiple of 25 bytes.\n",
    "    \n",
    "    return padding # Return the padding at the end. "
   ]
  },
  {
   "cell_type": "markdown",
   "metadata": {},
   "source": [
    "### Verifying it Works"
   ]
  },
  {
   "cell_type": "code",
   "execution_count": 172,
   "metadata": {},
   "outputs": [
    {
     "name": "stdout",
     "output_type": "stream",
     "text": [
      "SHA256 padding in hexidecimal format: \n",
      "80 \n",
      "00 \n",
      "00 \n",
      "00 \n",
      "00 \n",
      "00 \n",
      "00 \n",
      "00 \n",
      "00 \n",
      "00 \n",
      "00 \n",
      "00 \n",
      "00 \n",
      "00 \n",
      "00 \n",
      "00 \n",
      "00 \n",
      "00 \n",
      "00 \n",
      "00 \n",
      "00 \n",
      "00 \n",
      "00 \n",
      "00 \n",
      "00 \n",
      "\n",
      "00 \n",
      "00 \n",
      "00 \n",
      "00 \n",
      "00 \n",
      "00 \n",
      "00 \n",
      "00 \n",
      "00 \n",
      "00 \n",
      "00 \n",
      "00 \n",
      "00 \n",
      "00 \n",
      "00 \n",
      "00 \n",
      "00 \n",
      "00 \n",
      "00 \n",
      "00 \n",
      "00 \n",
      "00 \n",
      "00 \n",
      "00 \n",
      "00 \n",
      "\n",
      "00 \n",
      "00 \n",
      "00 \n",
      "00 \n",
      "00 \n",
      "00 \n",
      "00 \n",
      "00 \n",
      "00 \n",
      "00 \n",
      "18 \n"
     ]
    }
   ],
   "source": [
    "### Example usage with a test file. \n",
    "def test_sha256_padding():\n",
    "    # Create a test file with \"abc\"\n",
    "    with open(\"test_file.txt\", \"wb\") as f:\n",
    "        f.write(b\"abc\")\n",
    "    \n",
    "    # Calculate and print the padding\n",
    "    padding = SHA256_padding(\"test_file.txt\")\n",
    "    return padding\n",
    "\n",
    "# Test the function\n",
    "padding = test_sha256_padding()\n"
   ]
  },
  {
   "cell_type": "markdown",
   "metadata": {},
   "source": [
    "### SHA256 Uses\n",
    "SHA256 is used across the industry. In digital signitures, its used for verifying the integrity of messages or files. In Blockchain, many cryptocurrencies use SHA256 for proof-of-work checking. Passwords are commonly stored as hashes. Software's often check the integrity of files through the use of checksums with SHA256.\n",
    "\n",
    "- [*The First 30 Years of Cryptographic Hash Functions and the NIST SHA-3 Competition*. In Topics in Cryptology – CT-RSA 2010.](https://doi.org/10.1007/978-3-642-11925-5_1)\n",
    "- [*Password Storage Cheat Sheet*.](https://cheatsheetseries.owasp.org/cheatsheets/Password_Storage_Cheat_Sheet.html)"
   ]
  },
  {
   "cell_type": "markdown",
   "metadata": {},
   "source": [
    "# Task 4: Prime Numbers"
   ]
  },
  {
   "cell_type": "markdown",
   "metadata": {},
   "source": [
    "For the unafiliated, Prime numbers are natural numbers (greater than 1) that cannot be formed by multiplying two smaller natural numbers. It must have exactly two factors, 1 and itself, no divisibles. They have a storied history, whether it be Euclid who proved that prime numbers are infinite and created one of the two algorithms I'll use in this task, (The sieve of Eratosthenes) or others like Fermat, Euler and Gauss who developed various theorems about primes in the 17th and 18th centuries that are considered fundamental.\n",
    "\n",
    "- [Euclid's *Elements*, Book IX, Proposition 20 (circa 300 BCE) provides the first known proof that prime numbers are infinite.](https://mathcs.clarku.edu/~djoyce/elements/bookIX/propIX20.html)\n",
    "- [*Prime Numbers: A Computational Perspective* (2nd ed.). Springer.](https://doi.org/10.1007/0-387-28979-8)\n",
    "\n",
    "## Division with square roots\n",
    "The basic process for this algorithm for checking if a number is prime involves finding out if its divisible by any smaller numbers than it. We do this through using its square roots. This is useful in my opinion, as we only need to check if a number divides into our square root of n. This is because: \n",
    "- If its a multiple of n, then either a or b must be included in its square root. \n",
    "\n",
    "Let me break this down a little more clearly. When checking if a number n is prime, we only need to check the divisibility up to that number's square root. This is because if n = a x b (and they're both integers above 1) then either a) Both are less than or equal to n's square root. Or b) One is below n's square root and the other is above n's square root.\n",
    "\n",
    "- [Weisstein, E. W. \"Prime Number.\" From MathWorld--A Wolfram Web Resource.](https://mathworld.wolfram.com/PrimeNumber.html)\n",
    "- [*An Introduction to the Theory of Numbers* (6th ed.). Oxford University Press.](https://global.oup.com/academic/product/an-introduction-to-the-theory-of-numbers-9780199219865)\n",
    "- [*Number Theory: Volume I: Tools and Diophantine Equations*. Springer.](https://doi.org/10.1007/978-0-387-49923-9)\n",
    "\n",
    "With this in mind, we know that if a divisor isn't found up to n's square root. Then no divisor exists to be found and the number can only be prime. Here an example of how we'd use this in our own implementation."
   ]
  },
  {
   "cell_type": "code",
   "execution_count": 173,
   "metadata": {},
   "outputs": [
    {
     "name": "stdout",
     "output_type": "stream",
     "text": [
      "False\n",
      "False\n",
      "False\n",
      "False\n",
      "True\n"
     ]
    }
   ],
   "source": [
    "import numpy as np\n",
    "import matplotlib.pyplot as plt\n",
    "import time\n",
    "\n",
    "i = 5 # Start at 5, since we've already checked 2 and 3.\n",
    "n = 1000000 # Set n to a large number for testing.\n",
    "while i * i <= n: # Check if i squared is less than or equal to n.\n",
    "    if n % i == 0 or n % (i + 2) == 0: # Check if n can be divided by i or i + 2, return False if so.\n",
    "        print(\"False\")\n",
    "    i += 6 # Increment i by 6, since we're checking numbers of the \"6k±1\" form.\n",
    "print(\"True\")"
   ]
  },
  {
   "cell_type": "markdown",
   "metadata": {},
   "source": [
    "## Using the 6k±1 form\n",
    "\n",
    "We than proceed to check each number in sequence, adding it to our list if its a prime and leaving it be if it isn't one. We continue this process until we hopefully reach 100 prime numbers. For this implementation, I check only numbers of the form 6k±1. This is because all primes greater than 3 are of that form. If you wish, they can all be expressed as 6k, 6k+1, 6k+2, etc. Numbers of the form 6k+2 and 6k+4 are divisible by 2, while numbers of the form 6k+3 are divisible by 3. \n",
    "\n",
    "This means that our potential primes to consider in this instance are of the form 6k+1 or 6k+5, all others are handled already. Note that 6k+5 is actually 6k-1 for the next value of k. \n",
    "\n",
    "What does this all mean? Well it cuts out a lot of the effort for us. It reduces the number of divisions we need by about 2/3, as we don't need to check every single odd number when checking for primes. \n",
    "\n",
    "- [*Elementary Theory of Numbers* (2nd ed.). North-Holland.](https://www.elsevier.com/books/elementary-theory-of-numbers/sierpinski/978-0-444-86662-5)\n",
    "- [*Journal of Functional Programming*, 19(1), 95-106.](https://doi.org/10.1017/S0956796808007004)"
   ]
  },
  {
   "cell_type": "code",
   "execution_count": 174,
   "metadata": {},
   "outputs": [
    {
     "name": "stdout",
     "output_type": "stream",
     "text": [
      "False\n"
     ]
    }
   ],
   "source": [
    "# We only need to test numbers of the form \"6k±1\" since all primes higher than a 3 are of this form. \n",
    "# In order to do this, we must check the edge cases of 2 and 3 separately. Once we've checked 2 we know its not even.\n",
    "n = 57 # Example number to check for primality.\n",
    "if n <= 1: # Check if n is less than or equal to 1, if so, return False.\n",
    "    print(\"False\")\n",
    "if n <= 3: # Check if n is less than or equal to 3, if so, return True.\n",
    "    print(\"True\")\n",
    "if n % 2 == 0 or n % 3 == 0: # Check if n is divisible by 2 or 3, if so, return False.\n",
    "    print(\"False\")"
   ]
  },
  {
   "cell_type": "markdown",
   "metadata": {},
   "source": [
    "### Final Implementation"
   ]
  },
  {
   "cell_type": "code",
   "execution_count": 175,
   "metadata": {},
   "outputs": [],
   "source": [
    "# Test if a number is prime by checking if it is divisible by any number up to its square root. n is the number to test.\n",
    "def findPrimesUsingSquareRoots(n):\n",
    "\n",
    "    # We only need to test numbers of the form \"6k±1\" since all primes higher than a 3 are of this form. \n",
    "    \n",
    "    # In order to do this, we must check the edge cases of 2 and 3 separately. Once we've checked 2 we know its not even.\n",
    "    if n <= 1: # Check if n is less than or equal to 1, if so, return False.\n",
    "        return False\n",
    "    if n <= 3: # Check if n is less than or equal to 3, if so, return True.\n",
    "        return True\n",
    "    if n % 2 == 0 or n % 3 == 0: # Check if n is divisible by 2 or 3, if so, return False.\n",
    "        return False\n",
    "    \n",
    "    # Check all numbers of the form \"6k±1\" up to the square root of n.\n",
    "    i = 5 # Start at 5, since we've already checked 2 and 3.\n",
    "    while i * i <= n: # Check if i squared is less than or equal to n.\n",
    "        if n % i == 0 or n % (i + 2) == 0: # Check if n can be divided by i or i + 2, return False if so.\n",
    "            return False\n",
    "        i += 6 # Increment i by 6, since we're checking numbers of the \"6k±1\" form.\n",
    "    return True"
   ]
  },
  {
   "cell_type": "markdown",
   "metadata": {},
   "source": [
    "Here is a simple function for running that algorithm a number of times equal to the user's desire."
   ]
  },
  {
   "cell_type": "code",
   "execution_count": 176,
   "metadata": {},
   "outputs": [],
   "source": [
    "def find_primes(count):\n",
    "    # Find the first x number of primes based on the count given.\n",
    "    primes = [] # Create an empty list to store our found primes.\n",
    "    num = 2 # Start at 2, the first prime number.\n",
    "\n",
    "    # Loop until we have found the desired number of primes.\n",
    "    while len(primes) < count:\n",
    "        if findPrimesUsingSquareRoots(num):\n",
    "            primes.append(num)\n",
    "        num += 1\n",
    "\n",
    "    return primes"
   ]
  },
  {
   "cell_type": "code",
   "execution_count": 177,
   "metadata": {},
   "outputs": [
    {
     "name": "stdout",
     "output_type": "stream",
     "text": [
      "[2, 3, 5, 7, 11, 13, 17, 19, 23, 29, 31, 37, 41, 43, 47, 53, 59, 61, 67, 71, 73, 79, 83, 89, 97, 101, 103, 107, 109, 113, 127, 131, 137, 139, 149, 151, 157, 163, 167, 173, 179, 181, 191, 193, 197, 199, 211, 223, 227, 229, 233, 239, 241, 251, 257, 263, 269, 271, 277, 281, 283, 293, 307, 311, 313, 317, 331, 337, 347, 349, 353, 359, 367, 373, 379, 383, 389, 397, 401, 409, 419, 421, 431, 433, 439, 443, 449, 457, 461, 463, 467, 479, 487, 491, 499, 503, 509, 521, 523, 541]\n"
     ]
    }
   ],
   "source": [
    "primes = find_primes(100)\n",
    "\n",
    "print(primes)"
   ]
  },
  {
   "cell_type": "markdown",
   "metadata": {},
   "source": [
    "## Sieve Algorithm\n",
    "The previous method works overall, but it's a somewhat brute force approach to the issue in my opinion. Instead we could explore using [the Sieve approach](https://www.jstor.org/stable/106053). Instead of testing every individual number as we progress through sequentially, we can eliminate the composite numbers systematically, allowing us to whittle it down to the 100 primes we need. \n",
    "\n",
    "The Sieve of Eratosthenes was developed by the Greek mathematician by the same name in the 3rd century BCE, which makes it incredibly old as far as algorithms go. But that doesn't change its effectiveness in my opinion. \n",
    "\n",
    "### How it works\n",
    "\n",
    "Before we go through this step by step. Here is a summary of how this will work: \n",
    "1. We start with a list of numbers, we'll choose a minimum and a maximum of 2 and 1000.\n",
    "2. Starting with the first prime (2), we mark all its multiples as composite.\n",
    "3. We moved to the next unmarked number (which must be prime) and we mark all of its multiples\n",
    "4. Repeat this until the square root of the limit is reached. \n",
    "5. By the end, all unmarked numbers should be our primes.\n",
    "\n",
    "- [\"Linear prime-number sieves: a family tree.\" *Science of Computer Programming*, 9(1), 17-35.](https://doi.org/10.1016/0167-6423(87)90026-9)"
   ]
  },
  {
   "cell_type": "markdown",
   "metadata": {},
   "source": [
    "### Seive Set up\n",
    "To start, we'll set our limit and the sieve list. This will be a list containing all the true values found up to the limit we set, in this case 1000. Since the first two values can't be primes, we'll set them to false immediately."
   ]
  },
  {
   "cell_type": "code",
   "execution_count": 178,
   "metadata": {},
   "outputs": [],
   "source": [
    "limit = 1000 # Set a limit for the sieve.\n",
    "\n",
    "# Initialize the sieve list.\n",
    "sieve = [True] * (limit + 1) # Create a list of True values, one for each number up to the limit.\n",
    "# Set the first two values to False, since they are not prime.\n",
    "sieve[0] = False \n",
    "sieve[1] = False"
   ]
  },
  {
   "cell_type": "markdown",
   "metadata": {},
   "source": [
    "So at first, we'll assume all numbers are primes. Then as we loop through them all, we'll mark all the multiples of each prime as false or not prime. Any numbers that aren't marked by this are found as primes. This approach is quite a bit more effective and efficient in comparison to our last algorithm. We only need to search up to a certain limit, because larger factors of a prime would have been marked by their smaller counterparts already. Additionally, each number is marked only once for each of its prime numbers, rather than repeatedly parsing over familiar numbers within the previous algorithm."
   ]
  },
  {
   "cell_type": "code",
   "execution_count": 179,
   "metadata": {},
   "outputs": [],
   "source": [
    "# Loop through the sieve and set all multiples of each number to False.\n",
    "for i in range(2, int(np.sqrt(limit)) + 1): # Loop through up to square root of limit.\n",
    "    if sieve[i]: # If the number is prime.\n",
    "        for j in range(i * i, limit + 1, i): # Loop through all multiples of the number.\n",
    "            sieve[j] = False # Set the multiple to False."
   ]
  },
  {
   "cell_type": "markdown",
   "metadata": {},
   "source": [
    "After we've found all our primes using this method, we'll collect all the primes together by looping through the sieve and adding them systematically."
   ]
  },
  {
   "cell_type": "code",
   "execution_count": 180,
   "metadata": {},
   "outputs": [
    {
     "name": "stdout",
     "output_type": "stream",
     "text": [
      "[2, 3, 5, 7, 11, 13, 17, 19, 23, 29, 31, 37, 41, 43, 47, 53, 59, 61, 67, 71, 73, 79, 83, 89, 97, 101, 103, 107, 109, 113, 127, 131, 137, 139, 149, 151, 157, 163, 167, 173, 179, 181, 191, 193, 197, 199, 211, 223, 227, 229, 233, 239, 241, 251, 257, 263, 269, 271, 277, 281, 283, 293, 307, 311, 313, 317, 331, 337, 347, 349, 353, 359, 367, 373, 379, 383, 389, 397, 401, 409, 419, 421, 431, 433, 439, 443, 449, 457, 461, 463, 467, 479, 487, 491, 499, 503, 509, 521, 523, 541]\n"
     ]
    }
   ],
   "source": [
    "# Loop through the sieve and add all prime numbers to the list.\n",
    "count = 100 # Set the count of primes to find.\n",
    "primes = [] # Create empty list to store found primes.\n",
    "for i in range(limit + 1):\n",
    "    if sieve[i]: # If number is prime.\n",
    "        primes.append(i) # Add number to list.\n",
    "        if len(primes) == count: # Once we reach count, break loop.\n",
    "            break\n",
    "\n",
    "print(primes)"
   ]
  },
  {
   "cell_type": "markdown",
   "metadata": {},
   "source": [
    "### Final Implementation\n",
    "Here is the final function combining each of these steps for finding primes with the sieve method. As mentioned, we initialise some set up, loop through and systematically remove the multiples of each number, and then collect our primes that remain together and return it. "
   ]
  },
  {
   "cell_type": "code",
   "execution_count": 181,
   "metadata": {},
   "outputs": [
    {
     "name": "stdout",
     "output_type": "stream",
     "text": [
      "[2, 3, 5, 7, 11, 13, 17, 19, 23, 29, 31, 37, 41, 43, 47, 53, 59, 61, 67, 71, 73, 79, 83, 89, 97, 101, 103, 107, 109, 113, 127, 131, 137, 139, 149, 151, 157, 163, 167, 173, 179, 181, 191, 193, 197, 199, 211, 223, 227, 229, 233, 239, 241, 251, 257, 263, 269, 271, 277, 281, 283, 293, 307, 311, 313, 317, 331, 337, 347, 349, 353, 359, 367, 373, 379, 383, 389, 397, 401, 409, 419, 421, 431, 433, 439, 443, 449, 457, 461, 463, 467, 479, 487, 491, 499, 503, 509, 521, 523, 541]\n"
     ]
    }
   ],
   "source": [
    "def findPrimesUsingSieve(count):\n",
    "    # Find the first x number of primes based on the count given.\n",
    "    limit = 1000 # Set a limit for the sieve.\n",
    "\n",
    "    # Initialize the sieve list.\n",
    "    sieve = [True] * (limit + 1) # Create a list of True values, one for each number up to the limit.\n",
    "    # Set the first two values to False, since they are not prime.\n",
    "    sieve[0] = False \n",
    "    sieve[1] = False\n",
    "\n",
    "    # Loop through the sieve and set all multiples of each number to False.\n",
    "    for i in range(2, int(np.sqrt(limit)) + 1): # Loop through up to square root of limit.\n",
    "        if sieve[i]: # If the number is prime.\n",
    "            for j in range(i * i, limit + 1, i): # Loop through all multiples of the number.\n",
    "                sieve[j] = False # Set the multiple to False.\n",
    "\n",
    "    # Loop through the sieve and add all prime numbers to the list.\n",
    "    primes = [] # Create empty list to store found primes.\n",
    "    for i in range(limit + 1):\n",
    "        if sieve[i]: # If number is prime.\n",
    "            primes.append(i) # Add number to list.\n",
    "            if len(primes) == count: # Once we reach count, break loop.\n",
    "                break\n",
    "\n",
    "    return primes\n",
    "\n",
    "\n",
    "print(findPrimesUsingSieve(100))"
   ]
  },
  {
   "cell_type": "code",
   "execution_count": 182,
   "metadata": {},
   "outputs": [
    {
     "name": "stdout",
     "output_type": "stream",
     "text": [
      "\n",
      "Both algorithms produce the same results: True\n"
     ]
    }
   ],
   "source": [
    "# Compare the results to ensure they match\n",
    "print(f\"\\nBoth algorithms produce the same results: {find_primes(100) == findPrimesUsingSieve(100)}\")"
   ]
  },
  {
   "cell_type": "markdown",
   "metadata": {},
   "source": [
    "## Comparing algorithms\n",
    "The Sieve algorithm seems far more effective at first glance, particularly in terms of speed. This is generally due to the fact that it eliminates multiple composite numbers with each of its loops, instead of individually. It marks off all the multiples of the known primes, avoiding redundancy. As you can imagine, this is especially effective for larger numbers that possess many factors. Sieve has a handy amorphous nature to it as well, working across the entire range of numbers rather than singularly. If we were to directly compare time complexity between both methods, we'd find the following: \n",
    "\n",
    "- Square Root method Time Complexity: O(n√n).\n",
    "- Sieve method Time Complexity: O(n log log n).\n",
    "\n",
    "There are some additional trade offs to be considered when comparing these though, lets break it down: \n",
    "\n",
    "### Square Root Algorithm Breakdown: \n",
    "- Simple to understand and easier to implement.\n",
    "- Arguably more efficient for scenarios where we're testing individual numbers.\n",
    "- Uses minimal memory.\n",
    "\n",
    "However, its less efficient for generating sequences of primes and considerably slower.\n",
    "\n",
    "### Sieve of Eratosthenes Breakdown: \n",
    "- Far more efficient for generating a series primes up to a limit, like this task requires.\n",
    "- Faster by a considerable margin.\n",
    "\n",
    "However, it requires more memory (depending on the limit used) and not practical for cases where our range is incredibly large, because of this memory restraint. This means in select cases where resources are limited, the Square Root approach may actually be your better option in my opinion.\n",
    "\n",
    "- [Knuth, D. E. (1997). *The Art of Computer Programming, Volume 2: Seminumerical Algorithms* (3rd ed.). Addison-Wesley. Section 4.5: Factoring Into Primes.](https://www-cs-faculty.stanford.edu/~knuth/taocp.html)\n",
    "- [\"Trading time for space in prime number sieves.\" *Lecture Notes in Computer Science*, 1423, 179-195.](https://doi.org/10.1007/BFb0054863)"
   ]
  },
  {
   "cell_type": "markdown",
   "metadata": {},
   "source": [
    "## Prime Number Uses\n",
    "Prime numbers are used across the technology industry today, here's a couple *prime* examples: \n",
    "- As mentioned previously, hashing makes use of primes in hash table sizing to reduce the chances of collisions.\n",
    "- In cryptography, RSA and other public-key systems use factoring large numbers since they often prove difficult to do.\n",
    "- number generation can utilise primes to aid in creating high-quality sequences of random numbers.\n",
    "\n",
    "\n",
    "\n",
    "\n",
    "- [\"A method for obtaining digital signatures and public-key cryptosystems.\" *Communications of the ACM*, 21(2), 120-126.](https://dl.acm.org/doi/10.1145/359340.359342)\n",
    "- [*Introduction to Algorithms* (3rd ed.). MIT Press. Section 11.3: Hash Functions.](https://mitpress.mit.edu/books/introduction-algorithms-third-edition)\n",
    "- [*Handbook of Applied Cryptography*. CRC Press. Chapter 4: Public-Key Parameters.](https://cacr.uwaterloo.ca/hac/)\n",
    "- [\"TestU01: A C library for empirical testing of random number generators.\" *ACM Transactions on Mathematical Software*, 33(4), Article 22.](https://doi.org/10.1145/1268776.1268777)"
   ]
  },
  {
   "cell_type": "markdown",
   "metadata": {},
   "source": [
    "# Task 5: Roots"
   ]
  },
  {
   "cell_type": "markdown",
   "metadata": {},
   "source": [
    "So our aim with this task is to take the first 100 prime numbers (which we've gathered in our previous task) and calculate the first 32 bits of eah of their fractional parts of their square roots. We can do this similarly to how the SHA-256 algorithm generates its [constants](https://www.wiley.com/en-us/Applied+Cryptography%3A+Protocols%2C+Algorithms+and+Source+Code+in+C%2C+20th+Anniversary+Edition-p-9781119096726) (Add link here). \n",
    "\n",
    "### Cryptographic Constants\n",
    "For constant generation, the designers of SHA-256 used the fractional elements of cube roots of the first 64 prime numbers for making their round constants (also known as k values) and the fractional parts of square roots of initial 8 primes for their hash values (also known as H values).\n",
    "Why do these constants matter in Cryptography and computational theory? Well the unpredictability is key in my opinion, the designers needed to make sure that no patterns or exploits could be found for attackers to make use of. They're also unbiased in nature, so they aren't specially chosen to reveal weaknesses. Lastly is this: they appear random but they're actually deterministic. You can verify where they came from. This is why the fractional parts are viable for our approach here, they provide us with set of numbers that for all intents and purposes look random, but take a closer look and you'll see they're actually derived from classic maths principles.\n",
    "\n",
    "### Square Roots\n",
    "First off, lets get the square root of each prime number. To do this in python, you multiply against the power of 0.5 of your prime. As shown below, for example purposes I've used 7 as its a fairly common prime number. Using the exponentiation operator with 0.5 gives us the square root, in this case 2.6457513110645907.\n",
    "\n",
    "- [*An Introduction to the Theory of Numbers* (6th ed.). Oxford University Press. Section 4.5: Irrational Numbers.](https://global.oup.com/academic/product/an-introduction-to-the-theory-of-numbers-9780199219865)"
   ]
  },
  {
   "cell_type": "code",
   "execution_count": 183,
   "metadata": {},
   "outputs": [
    {
     "name": "stdout",
     "output_type": "stream",
     "text": [
      "root: 2.6457513110645907\n"
     ]
    }
   ],
   "source": [
    "prime = 7\n",
    "root = prime ** 0.5 # Square root is written as a power of 0.5 in Python.\n",
    "print(f'root: {root}')"
   ]
  },
  {
   "cell_type": "markdown",
   "metadata": {},
   "source": [
    "## Fractional Parts\n",
    "After this we need to extract the fractional parts of our square root. The fractional parts is (as the name suggests) anything after the decimal point. So for the square root of 7: 2.6457513110645907, it'd be 6457513110645907. To extract the fractional part of our square rooted prime in python, I think my best option is to use math.floor and take that away from our root, that way I only get the fractional part. \n",
    "\n",
    "- [*What every computer scientist should know about floating-point arithmetic*. ACM Computing Surveys, 23(1), 5-48. ](https://doi.org/10.1145/103162.103163)"
   ]
  },
  {
   "cell_type": "code",
   "execution_count": 184,
   "metadata": {},
   "outputs": [
    {
     "name": "stdout",
     "output_type": "stream",
     "text": [
      "frac: 0.6457513110645907\n"
     ]
    }
   ],
   "source": [
    "frac = root - math.floor(root) # Subtract the floor of the root from the root to get the fractional part.\n",
    "print(f'frac: {frac}')"
   ]
  },
  {
   "cell_type": "markdown",
   "metadata": {},
   "source": [
    "### 32 Bits Representation\n",
    "Next up is where we dive into bits territory. In this case, we need to represent our fractional part (such as .6457513110645907) as a 32 bit value (like ). We can do this by multiplying our fractional part from above by 2 to the power of 32. What this does is it effectively shifts the decimal point 32 digits over to the right, giving us our desired 32 bits of a fractional part.\n",
    "\n",
    "Lastly, I'll use int() just to truncate down the found result to keep it within integer format. \n",
    "\n",
    "- [Knuth, D. E. (1997). *The Art of Computer Programming, Volume 2: Seminumerical Algorithms* (3rd ed.). Addison-Wesley. Section 4.2.1: Floating Point Arithmetic.](https://www-cs-faculty.stanford.edu/~knuth/taocp.html)"
   ]
  },
  {
   "cell_type": "code",
   "execution_count": 185,
   "metadata": {},
   "outputs": [
    {
     "name": "stdout",
     "output_type": "stream",
     "text": [
      "frac: 2773480762.37154\n",
      "bits: 2773480762\n"
     ]
    }
   ],
   "source": [
    "frac = frac * (2 ** 32) # Multiply the fractional part by 2^32 to get the fractional part in integer form.\n",
    "print(f'frac: {frac}')\n",
    "\n",
    "# Convert to integer through truncation so we only have the integer part.\n",
    "bits = int(frac)\n",
    "print(f'bits: {bits}')"
   ]
  },
  {
   "cell_type": "markdown",
   "metadata": {},
   "source": [
    "### Find Square Root - Method\n",
    "Now that we've accomplished this algorithm step by step. I'll combine this together into a singular method."
   ]
  },
  {
   "cell_type": "code",
   "execution_count": 186,
   "metadata": {},
   "outputs": [],
   "source": [
    "def findSquareRoot(prime):\n",
    "    root = prime ** 0.5 # Square root is written as a power of 0.5 in Python.\n",
    "\n",
    "    frac = root - math.floor(root) # Subtract the floor of the root from the root to get the fractional part.\n",
    "\n",
    "    frac = frac * (2 ** 32) # Multiply the fractional part by 2^32 to get the fractional part in integer form.\n",
    "    \n",
    "    bits = int(frac) # Convert to integer through truncation so we only have the integer part.\n",
    "    return bits"
   ]
  },
  {
   "cell_type": "markdown",
   "metadata": {},
   "source": [
    "\n",
    "### The Final Product\n",
    "Now I'm going to feed in my primes calculated in the previous task using one of my algorithms into this algorithm we've developed and collect the results."
   ]
  },
  {
   "cell_type": "code",
   "execution_count": 187,
   "metadata": {},
   "outputs": [
    {
     "name": "stdout",
     "output_type": "stream",
     "text": [
      "First 32 bits of fractional parts of square roots of first 100 primes:\n",
      "     2 → 01101010000010011110011001100111\n",
      "     3 → 10111011011001111010111010000101\n",
      "     5 → 00111100011011101111001101110010\n",
      "     7 → 10100101010011111111010100111010\n",
      "    11 → 01010001000011100101001001111111\n",
      "    13 → 10011011000001010110100010001100\n",
      "    17 → 00011111100000111101100110101011\n",
      "    19 → 01011011111000001100110100011001\n",
      "    23 → 11001011101110111001110101011101\n",
      "    29 → 01100010100110100010100100101010\n",
      "    31 → 10010001010110010000000101011010\n",
      "    37 → 00010101001011111110110011011000\n",
      "    41 → 01100111001100110010011001100111\n",
      "    43 → 10001110101101000100101010000111\n",
      "    47 → 11011011000011000010111000001101\n",
      "    53 → 01000111101101010100100000011101\n",
      "    59 → 10101110010111111001000101010110\n",
      "    61 → 11001111011011001000010111010011\n",
      "    67 → 00101111011100110100011101111101\n",
      "    71 → 01101101000110000010011011001010\n",
      "    73 → 10001011010000111101010001010111\n",
      "    79 → 11100011011000001011010110010110\n",
      "    83 → 00011100010001010110000000000010\n",
      "    89 → 01101111000110010110001100110001\n",
      "    97 → 11011001010011101011111010110001\n",
      "   101 → 00001100110001001010011000010001\n",
      "   103 → 00100110000111011100000111110010\n",
      "   107 → 01011000000101011010011110111110\n",
      "   109 → 01110000101101111110110101100111\n",
      "   113 → 10100001010100010011110001101001\n",
      "   127 → 01000100111110010011011000110101\n",
      "   131 → 01110010000011011100110111111101\n",
      "   137 → 10110100011001110011011010011110\n",
      "   139 → 11001010001100100000101101110101\n",
      "   149 → 00110100111000001101010000101110\n",
      "   151 → 01001001110001111101100110111101\n",
      "   157 → 10000111101010111011100111110010\n",
      "   163 → 11000100011000111010001011111100\n",
      "   167 → 11101100001111111100001111110011\n",
      "   173 → 00100111001001110111111101101101\n",
      "   179 → 01100001000010111110101111110010\n",
      "   181 → 01110100001000001011010010011110\n",
      "   191 → 11010001111111011000101000110011\n",
      "   193 → 11100100011101110011010110010100\n",
      "   197 → 00001001001000011001011111110110\n",
      "   199 → 00011011010100110000110010010101\n",
      "   211 → 10000110100111010110001101000010\n",
      "   223 → 11101110111001010010111001001111\n",
      "   227 → 00010001000001110110011010001001\n",
      "   229 → 00100001111110111010001101111011\n",
      "   233 → 01000011101010111001111110110110\n",
      "   239 → 01110101101010011111100100011101\n",
      "   241 → 10000110001100000101000000011001\n",
      "   251 → 11010111110011011000000101110011\n",
      "   257 → 00000111111111100000000011111111\n",
      "   263 → 00110111100111110101000100111111\n",
      "   269 → 01100110101101100101000110101000\n",
      "   271 → 01110110010010101011100001000010\n",
      "   277 → 10100100101100000110101111100001\n",
      "   281 → 11000011010101111000110000010101\n",
      "   283 → 11010010100101100010101001010011\n",
      "   293 → 00011110000000111001111101000000\n",
      "   307 → 10000101011110110111101111101110\n",
      "   311 → 10100010100110111111001011011110\n",
      "   313 → 10110001000110100011001011101000\n",
      "   317 → 11001101111100110100111010000000\n",
      "   331 → 00110001100000110000010000100110\n",
      "   337 → 01011011100010010000100100101011\n",
      "   347 → 10100000110000000110101000010011\n",
      "   349 → 10101110011110011000010000101111\n",
      "   353 → 11001001110011011010011010001001\n",
      "   359 → 11110010100000011111001000111001\n",
      "   367 → 00101000010000010010010110010010\n",
      "   373 → 01010000001011100110010011011011\n",
      "   379 → 01110111110010011100001000010001\n",
      "   383 → 10010010000001001100110110011101\n",
      "   389 → 10111001000110111111011001100011\n",
      "   397 → 11101100110000111000110010011101\n",
      "   401 → 00000110011001010110000010010101\n",
      "   409 → 00111001010001111001001110000001\n",
      "   419 → 01111000001100000111011010010111\n",
      "   421 → 10000100101011100100101101111100\n",
      "   431 → 11000010101100101011011101010101\n",
      "   433 → 11001111000000111101001000001110\n",
      "   439 → 11110011110010111011000100010111\n",
      "   443 → 00001100001011010011101101001011\n",
      "   449 → 00110000100010101111000101100001\n",
      "   457 → 01100000101001111010100110011000\n",
      "   461 → 01111000100011011001100000010010\n",
      "   463 → 10000100011101101001101101000010\n",
      "   467 → 10011100001101001111000001100010\n",
      "   479 → 11100010110101010110010011000100\n",
      "   487 → 00010001011011010111010111111101\n",
      "   491 → 00101000100101001100000100000111\n",
      "   499 → 01010110100110110101100011000110\n",
      "   503 → 01101101011110110011100100111001\n",
      "   509 → 10001111100111111000110110111011\n",
      "   521 → 11010011010011110000001111001101\n",
      "   523 → 11011110100000110111001011101111\n",
      "   541 → 01000010011010000111101000111001\n"
     ]
    }
   ],
   "source": [
    "primes = findPrimesUsingSieve(100) # Find the first 100 primes using the sieve method, alternatively I could use the other method.\n",
    "\n",
    "# calculate fractional parts of the square roots\n",
    "frac32Results = []\n",
    "for prime in primes:\n",
    "    bits = findSquareRoot(prime)\n",
    "    frac32Results.append(bits)\n",
    "\n",
    "# Print results\n",
    "print(\"First 32 bits of fractional parts of square roots of first 100 primes:\")\n",
    "for prime, bits in zip(primes, frac32Results):\n",
    "    print(f\"{prime:6} → {bits:032b}\")"
   ]
  },
  {
   "cell_type": "markdown",
   "metadata": {},
   "source": [
    "### Why this Approach?\n",
    "There's several reasons really. The square root of any prime number is irrational in nature. This means it cannot be expressed as a fraction of integers. What this does is it ensures the bits that result from it have no simple predictable pattern.\n",
    "Another reason is distribution, the binary digits of these numbers distribute evenly, meaning that roughly each 0 and 1 occur equally. There's just enough variance in their probability to avoid obvious patterns forming. On a simpler side, independence plays a reason to use them. The bits we get from different square roots of prime numbers show no correlation between each other. \n",
    "\n",
    "calculating the first 32 bits like we are in this task has several practical uses of benefit I think. We could use them for getting values for generating random numbers or for ID creation, where our IDs wouldn't have any patterns that were obvious, keeping them secure. Complementary to what we explored in task 2, we could make use of this for crafting our own hash functions for cryptography.\n",
    "\n",
    "Outside of SHA-256, this approach is used in other algorithms for a similar cryptographic task. SHA-1 at one point used specific constants, but later on it moved to the square/cube root method seen here. MD5 uses similar but with sine functions instead. ChaCha uses select initial words from an ASCII string (expand 32-byte k\").\n",
    "\n",
    "- [*Cryptography Engineering: Design Principles and Practical Applications*. Wiley. Chapter 5: Hash Functions.](https://www.wiley.com/en-us/Cryptography+Engineering%3A+Design+Principles+and+Practical+Applications-p-9780470474242)"
   ]
  },
  {
   "cell_type": "markdown",
   "metadata": {},
   "source": [
    "# Task 6: Proof of Work"
   ]
  },
  {
   "cell_type": "markdown",
   "metadata": {},
   "source": [
    "This task is an approximation of the \"Proof of Work\" mechanism. We can see this used in cryptocurrencies and Bitcoin. Its used often to [decide who gets to add the next block to a blockchain](https://bitcoin.org/bitcoin.pdf). It aids in distribution, providing a way to divide and seperate out who gets coins fairly. Its also a security feature, it makes attempts at network attacks expensive to do. There's several things to consider when doing this task that I mentioned in previous ones that make this a difficult process in my opinion. The Avalache Effect plays into this, where its rone to completely different hash output if even the tiniest changes are made to the input. The Even Distributions play into this too, where we have roughly 50% zeros and 50% ones. Lastly is that this is kind of one-way function. Calculating the hash from the input data isn't terribly difficult, but its far more difficult to find the input when you only have the hash."
   ]
  },
  {
   "cell_type": "markdown",
   "metadata": {},
   "source": [
    "### Download English words\n",
    "I used the file of english words used in the previous module for this task. While it may not be the largest catalogue of words, it proved sufficient for the task. Additionally, other files I found online possessed numerous unprovable words, so I felt best to use this one instead. "
   ]
  },
  {
   "cell_type": "code",
   "execution_count": 188,
   "metadata": {},
   "outputs": [
    {
     "name": "stdout",
     "output_type": "stream",
     "text": [
      "First 5 words in the dictionary:\n",
      "AARHUS\n",
      "AARON\n",
      "ABABA\n",
      "ABACK\n",
      "ABAFT\n",
      "Last 5 words in the dictionary:\n",
      "ZOROASTER\n",
      "ZOROASTRIAN\n",
      "ZULU\n",
      "ZULUS\n",
      "ZURICH\n"
     ]
    }
   ],
   "source": [
    "import hashlib\n",
    "import requests\n",
    "import os\n",
    "import time\n",
    "from collections import defaultdict\n",
    "\n",
    "def getEnglishDict():\n",
    "    englishDict = \"words.txt\" # Path to the word list file.\n",
    "\n",
    "\n",
    "    # Download the word list if it doesn't exist\n",
    "    if not os.path.exists(englishDict):\n",
    "        print(\"Downloading English Dict...\")\n",
    "        url = \"https://github.com/ShanewalshGit/EmergingTech/blob/main/tasks/words.txt?raw=true\"\n",
    "        response = requests.get(url)\n",
    "        with open(englishDict, \"w\") as f:\n",
    "            f.write(response.text)\n",
    "        print(\"Download complete.\")\n",
    "    \n",
    "    # Read the word list\n",
    "    with open(englishDict, \"r\") as f:\n",
    "        words = [line.strip() for line in f if line.strip()]\n",
    "    \n",
    "    return words\n",
    "    \n",
    "# Only prints some of the words to avoid cluttering the output.\n",
    "print(\"First 5 words in the dictionary:\")\n",
    "for word in getEnglishDict()[:5]:\n",
    "    print(word)\n",
    "\n",
    "print(\"Last 5 words in the dictionary:\")\n",
    "for word in getEnglishDict()[-5:]:\n",
    "    print(word)\n"
   ]
  },
  {
   "cell_type": "markdown",
   "metadata": {},
   "source": [
    "### Count Leading Zeros in a Hash\n",
    "So to do this we need to look at the binary version of each of our hashes, going from left to right. As we do this, we count up all zeros until we inevitably hit a 1. There's a little more work prior to this however, namely calculating the hash of a word and converting that to binary. Its vital as well that we don't have '0b' there as a prefix, so we take that out else our counting method will break at 'b'.\n",
    "\n",
    "- [*Cryptographic Hash-Function Basics: Definitions, Implications, and Separations for Preimage Resistance, Second-Preimage Resistance, and Collision Resistance*. In Fast Software Encryption (pp. 371-388). Springer.](https://doi.org/10.1007/978-3-540-25937-4_24)"
   ]
  },
  {
   "cell_type": "markdown",
   "metadata": {},
   "source": [
    "### Hash Calculation\n",
    "Here's how we could handle the collection of the hash digest for a word. Later on, I'll mix this together with the greater code as the first step. I'll let the method handle one word individually for this process, and loop the method at the end instead of handling all the words in the one method call."
   ]
  },
  {
   "cell_type": "code",
   "execution_count": 189,
   "metadata": {},
   "outputs": [],
   "source": [
    "# calculate the hash (SHa256)\n",
    "word = \"hello\"\n",
    "hash = hashlib.sha256(word.encode())\n",
    "hash = hash.hexdigest()"
   ]
  },
  {
   "cell_type": "markdown",
   "metadata": {},
   "source": [
    "### Binary Conversion\n",
    "Here's how I could convert the hex gained from our hash into a sequence of binaries. As seen below, we remove the '0b' prefix from it."
   ]
  },
  {
   "cell_type": "code",
   "execution_count": 190,
   "metadata": {},
   "outputs": [],
   "source": [
    "# Convert hex to string of binaries (we don't want '0b' on there)\n",
    "binary = bin(int(hash, 16))[2:].zfill(256)"
   ]
  },
  {
   "cell_type": "markdown",
   "metadata": {},
   "source": [
    "### Count Leading Zeros\n",
    "Counting the number of leading zeros present is simple enough for us. For each bit in the binary string we gained previously, we check if the bit is a zero. If so, increase our count or stop the count otherwise."
   ]
  },
  {
   "cell_type": "code",
   "execution_count": 191,
   "metadata": {},
   "outputs": [
    {
     "name": "stdout",
     "output_type": "stream",
     "text": [
      "Leading zeros: 2\n",
      "Leading zeros: 3\n",
      "Leading zeros: 3\n",
      "Leading zeros: 5\n",
      "Leading zeros: 5\n",
      "Leading zeros: 5\n",
      "Leading zeros: 5\n",
      "Leading zeros: 7\n",
      "Leading zeros: 9\n",
      "Leading zeros: 11\n",
      "Leading zeros: 11\n",
      "Leading zeros: 12\n",
      "Leading zeros: 12\n",
      "Leading zeros: 13\n",
      "Leading zeros: 13\n",
      "Leading zeros: 13\n",
      "Leading zeros: 14\n",
      "Leading zeros: 16\n",
      "Leading zeros: 17\n",
      "Leading zeros: 17\n",
      "Leading zeros: 17\n",
      "Leading zeros: 17\n",
      "Leading zeros: 17\n",
      "Leading zeros: 17\n",
      "Leading zeros: 18\n",
      "Leading zeros: 18\n",
      "Leading zeros: 22\n",
      "Leading zeros: 23\n",
      "Leading zeros: 26\n",
      "Leading zeros: 26\n",
      "Leading zeros: 30\n",
      "Leading zeros: 30\n",
      "Leading zeros: 30\n",
      "Leading zeros: 33\n",
      "Leading zeros: 35\n",
      "Leading zeros: 35\n",
      "Leading zeros: 36\n",
      "Leading zeros: 36\n",
      "Leading zeros: 36\n",
      "Leading zeros: 37\n",
      "Leading zeros: 42\n",
      "Leading zeros: 42\n",
      "Leading zeros: 42\n",
      "Leading zeros: 43\n",
      "Leading zeros: 43\n",
      "Leading zeros: 45\n",
      "Leading zeros: 46\n",
      "Leading zeros: 47\n",
      "Leading zeros: 48\n",
      "Leading zeros: 48\n",
      "Leading zeros: 51\n",
      "Leading zeros: 52\n",
      "Leading zeros: 52\n",
      "Leading zeros: 53\n",
      "Leading zeros: 53\n",
      "Leading zeros: 53\n",
      "Leading zeros: 55\n",
      "Leading zeros: 55\n",
      "Leading zeros: 55\n",
      "Leading zeros: 55\n",
      "Leading zeros: 58\n",
      "Leading zeros: 59\n",
      "Leading zeros: 61\n",
      "Leading zeros: 61\n",
      "Leading zeros: 61\n",
      "Leading zeros: 61\n",
      "Leading zeros: 65\n",
      "Leading zeros: 65\n",
      "Leading zeros: 66\n",
      "Leading zeros: 66\n",
      "Leading zeros: 69\n",
      "Leading zeros: 70\n",
      "Leading zeros: 70\n",
      "Leading zeros: 74\n",
      "Leading zeros: 74\n",
      "Leading zeros: 74\n",
      "Leading zeros: 74\n",
      "Leading zeros: 76\n",
      "Leading zeros: 77\n",
      "Leading zeros: 77\n",
      "Leading zeros: 77\n",
      "Leading zeros: 82\n",
      "Leading zeros: 82\n",
      "Leading zeros: 82\n",
      "Leading zeros: 82\n",
      "Leading zeros: 82\n",
      "Leading zeros: 82\n",
      "Leading zeros: 83\n",
      "Leading zeros: 85\n",
      "Leading zeros: 85\n",
      "Leading zeros: 85\n",
      "Leading zeros: 86\n",
      "Leading zeros: 90\n",
      "Leading zeros: 92\n",
      "Leading zeros: 93\n",
      "Leading zeros: 93\n",
      "Leading zeros: 93\n",
      "Leading zeros: 93\n",
      "Leading zeros: 95\n",
      "Leading zeros: 95\n",
      "Leading zeros: 95\n",
      "Leading zeros: 97\n",
      "Leading zeros: 97\n",
      "Leading zeros: 102\n",
      "Leading zeros: 106\n",
      "Leading zeros: 106\n",
      "Leading zeros: 108\n",
      "Leading zeros: 108\n",
      "Leading zeros: 109\n",
      "Leading zeros: 109\n",
      "Leading zeros: 112\n",
      "Leading zeros: 113\n",
      "Leading zeros: 115\n",
      "Leading zeros: 117\n",
      "Leading zeros: 117\n",
      "Leading zeros: 117\n",
      "Leading zeros: 120\n",
      "Leading zeros: 121\n",
      "Leading zeros: 121\n",
      "Leading zeros: 121\n",
      "Leading zeros: 123\n",
      "Leading zeros: 123\n",
      "Leading zeros: 128\n",
      "Leading zeros: 130\n"
     ]
    }
   ],
   "source": [
    "# Count up leading zeros\n",
    "leadingZeros = 0\n",
    "for bit in binary: \n",
    "    if bit == '0':\n",
    "        leadingZeros += 1 # add up 1 if bit found to be a 0\n",
    "    else:\n",
    "        print(f\"Leading zeros: {leadingZeros}\")"
   ]
  },
  {
   "cell_type": "markdown",
   "metadata": {},
   "source": [
    "### Counting Zeros Execution"
   ]
  },
  {
   "cell_type": "code",
   "execution_count": 192,
   "metadata": {},
   "outputs": [],
   "source": [
    "# Calculate SHA256 hash of word and count leading zeros amount.\n",
    "def countLeadingZeros(word):\n",
    "\n",
    "    # calculate the hash (SHa256)\n",
    "    hash = hashlib.sha256(word.encode())\n",
    "    hash = hash.hexdigest()\n",
    "\n",
    "    # Convert hex to string of binaries (we don't want '0b' on there)\n",
    "    binary = bin(int(hash, 16))[2:].zfill(256)\n",
    "\n",
    "    # Count up leading zeros\n",
    "    leadingZeros = 0\n",
    "    for bit in binary: \n",
    "        if bit == '0':\n",
    "            leadingZeros += 1 # add up 1 if bit found to be a 0\n",
    "        else:\n",
    "            break\n",
    "\n",
    "    return word, leadingZeros, hash"
   ]
  },
  {
   "cell_type": "markdown",
   "metadata": {},
   "source": [
    "### Calculate Word With Most Leading Zeros\n",
    "Here I'll develop a function for finding the collection of words with the most leading zeros (using our function we just wrote) and extract the top ones for showcasing."
   ]
  },
  {
   "cell_type": "code",
   "execution_count": 193,
   "metadata": {},
   "outputs": [],
   "source": [
    "# Find the words that have the most leading zeros in their SHA256 hash\n",
    "def findWordsWithLeadingZeros(wordsList, resultsNum=10, maxWords=1000000):\n",
    "    \n",
    "    print(f\"Searching through {maxWords} words for the top {resultsNum} with the most leading zeros in their SHA256 hash...\")\n",
    "\n",
    "    # Keep track of words\n",
    "    result = defaultdict(list)\n",
    "    maxZeros = 0 # Keep track of max zeros\n",
    "\n",
    "\n",
    "    # Search words (limited to maxWords for efficiency)\n",
    "    for i, word in enumerate(wordsList[:maxWords]): # Enumerate through list of words.\n",
    "        word, zeros, hash = countLeadingZeros(word) # Count leading zeros for each word.\n",
    "        \n",
    "        # Keep track of max zeros and add to results\n",
    "        if zeros >= maxZeros:\n",
    "            max_zeros = zeros\n",
    "            result[zeros].append((word, zeros, hash)) # Add word to results.\n",
    "\n",
    "    # Get top 10 results\n",
    "    topResults = []\n",
    "    for zeros in sorted(result.keys(), reverse=True):\n",
    "        topResults.extend(result[zeros])\n",
    "        if len(topResults) >= resultsNum:\n",
    "            break\n",
    "\n",
    "    return topResults[:resultsNum]\n"
   ]
  },
  {
   "cell_type": "markdown",
   "metadata": {},
   "source": [
    "### Execution\n",
    "Now to execute our functionality that returns the top 10 words with the most leading zeros in their hash. We find that \"applicant\" has the most at 16 zeros with a marginal lead over \"anachronistically\" at 15. Then we have \"neck\" at 14 and \"dryly\" at 13 and so on. Our results continue from there down to \"poisons\" at 12 zeros. This gives us an interesting insights I feel. The words with the most leading zeros are quite marginal in there difference, at most there is a 4 zero difference between the highest and the 10th highest."
   ]
  },
  {
   "cell_type": "code",
   "execution_count": 194,
   "metadata": {},
   "outputs": [
    {
     "name": "stdout",
     "output_type": "stream",
     "text": [
      "Loaded 45402 English words\n",
      "Searching through 1000000 words for the top 10 with the most leading zeros in their SHA256 hash...\n",
      "\n",
      "Top words with most leading zero bits in SHA256 hash:\n",
      "======================================================================\n",
      "Word                 Zero Bits  SHA256 Hash\n",
      "----------------------------------------------------------------------\n",
      "APPLICANT            16         0000ca01adc973c2...\n",
      "ANACHRONISTICALLY    15         000116c1be4890e0...\n",
      "NECK                 14         00020b4f21dc1d0b...\n",
      "DRYLY                13         0006dca1a7f786ba...\n",
      "METAMORPHOSIS        13         0005fa7f4fd53079...\n",
      "PLATOON              13         0004124cd544662f...\n",
      "SURGERY              13         00042315571e0259...\n",
      "BERESFORD            12         000e6a1da3ecda87...\n",
      "INTERFACED           12         000850ba098df06a...\n",
      "POISONS              12         000d45e96eb28889...\n"
     ]
    }
   ],
   "source": [
    "words = getEnglishDict() # Get the English dictionary words\n",
    "print(f\"Loaded {len(words)} English words\") # Print number of words loaded.\n",
    "\n",
    "# Find top words with most leading zeros in their SHA256 hash\n",
    "top_words = findWordsWithLeadingZeros(words)\n",
    "\n",
    "print(\"\\nTop words with most leading zero bits in SHA256 hash:\")\n",
    "print(\"=\" * 70) # For formatting purposes.\n",
    "print(f\"{'Word':<20} {'Zero Bits':<10} {'SHA256 Hash'}\") # Print a header.\n",
    "print(\"-\" * 70) # For formatting purposes.\n",
    "\n",
    "for word, zeros, hash in top_words: # Print the top words with leading zeros.\n",
    "    print(f\"{word:<20} {zeros:<10} {hash[:16]}...\") # Print the word, zeros, and first 16 characters of the hash.\n",
    "\n"
   ]
  },
  {
   "cell_type": "markdown",
   "metadata": {},
   "source": [
    "### Proof word is in a Dictionary\n",
    "For the sake of referencing and sanctity, here are sources for each of the top 10 words found. I've included proof of word existence for each of the top 10 using both merriam-webster and Oxford dictionary links for each of them. "
   ]
  },
  {
   "cell_type": "code",
   "execution_count": 195,
   "metadata": {},
   "outputs": [
    {
     "name": "stdout",
     "output_type": "stream",
     "text": [
      "\n",
      "Dictionary proof:\n",
      "Local: \n",
      "The word 'APPLICANT' is included in the words.txt dictionary.\n",
      "Online Proof: \n",
      "- Merriam-Webster: https://www.merriam-webster.com/dictionary/applicant\n",
      "- Oxford: https://www.oxfordlearnersdictionaries.com/definition/english/applicant\n",
      "\n",
      "Dictionary proof:\n",
      "Local: \n",
      "The word 'ANACHRONISTICALLY' is included in the words.txt dictionary.\n",
      "Online Proof: \n",
      "- Merriam-Webster: https://www.merriam-webster.com/dictionary/anachronistically\n",
      "- Oxford: https://www.oxfordlearnersdictionaries.com/definition/english/anachronistically\n",
      "\n",
      "Dictionary proof:\n",
      "Local: \n",
      "The word 'NECK' is included in the words.txt dictionary.\n",
      "Online Proof: \n",
      "- Merriam-Webster: https://www.merriam-webster.com/dictionary/neck\n",
      "- Oxford: https://www.oxfordlearnersdictionaries.com/definition/english/neck\n",
      "\n",
      "Dictionary proof:\n",
      "Local: \n",
      "The word 'DRYLY' is included in the words.txt dictionary.\n",
      "Online Proof: \n",
      "- Merriam-Webster: https://www.merriam-webster.com/dictionary/dryly\n",
      "- Oxford: https://www.oxfordlearnersdictionaries.com/definition/english/dryly\n",
      "\n",
      "Dictionary proof:\n",
      "Local: \n",
      "The word 'METAMORPHOSIS' is included in the words.txt dictionary.\n",
      "Online Proof: \n",
      "- Merriam-Webster: https://www.merriam-webster.com/dictionary/metamorphosis\n",
      "- Oxford: https://www.oxfordlearnersdictionaries.com/definition/english/metamorphosis\n",
      "\n",
      "Dictionary proof:\n",
      "Local: \n",
      "The word 'PLATOON' is included in the words.txt dictionary.\n",
      "Online Proof: \n",
      "- Merriam-Webster: https://www.merriam-webster.com/dictionary/platoon\n",
      "- Oxford: https://www.oxfordlearnersdictionaries.com/definition/english/platoon\n",
      "\n",
      "Dictionary proof:\n",
      "Local: \n",
      "The word 'SURGERY' is included in the words.txt dictionary.\n",
      "Online Proof: \n",
      "- Merriam-Webster: https://www.merriam-webster.com/dictionary/surgery\n",
      "- Oxford: https://www.oxfordlearnersdictionaries.com/definition/english/surgery\n",
      "\n",
      "Dictionary proof:\n",
      "Local: \n",
      "The word 'BERESFORD' is included in the words.txt dictionary.\n",
      "Online Proof: \n",
      "- Merriam-Webster: https://www.merriam-webster.com/dictionary/beresford\n",
      "- Oxford: https://www.oxfordlearnersdictionaries.com/definition/english/beresford\n",
      "\n",
      "Dictionary proof:\n",
      "Local: \n",
      "The word 'INTERFACED' is included in the words.txt dictionary.\n",
      "Online Proof: \n",
      "- Merriam-Webster: https://www.merriam-webster.com/dictionary/interfaced\n",
      "- Oxford: https://www.oxfordlearnersdictionaries.com/definition/english/interfaced\n",
      "\n",
      "Dictionary proof:\n",
      "Local: \n",
      "The word 'POISONS' is included in the words.txt dictionary.\n",
      "Online Proof: \n",
      "- Merriam-Webster: https://www.merriam-webster.com/dictionary/poisons\n",
      "- Oxford: https://www.oxfordlearnersdictionaries.com/definition/english/poisons\n"
     ]
    }
   ],
   "source": [
    "def showProof(word):\n",
    "\n",
    "    print(\"\\nDictionary proof:\")\n",
    "    print(f\"Local: \")\n",
    "    print(f\"The word '{word}' is included in the words.txt dictionary.\")\n",
    "\n",
    "    # Online site alternatives for greater proof if my txt ins't enough.\n",
    "    print(f\"Online Proof: \")\n",
    "    print(f\"- Merriam-Webster: https://www.merriam-webster.com/dictionary/{word.lower()}\")\n",
    "    print(f\"- Oxford: https://www.oxfordlearnersdictionaries.com/definition/english/{word.lower()}\")\n",
    "\n",
    "# Verify the top word(s) are in a dictionary\n",
    "for word, zeros, hash in top_words:\n",
    "    showProof(word)"
   ]
  },
  {
   "cell_type": "markdown",
   "metadata": {},
   "source": [
    "## Proof of Work Uses\n",
    "Other than cryptocurrencies: proof of work is used in Anti-spam functionality in email systems. This is where it requires email senders to solve small proof of work challenges that help [prevent mass spam](https://doi.org/10.1016/j.jisa.2020.102716), this akin to the classic little site minigames you do to prove you're not a robot. Proof of work is also used for [DDoS protection](https://www.cloudflare.com/learning/ddos/what-is-a-ddos-attack/) to filter out automated attacks from various services. APIs make use of proof of work all the time for rate limiting the allocation of resources."
   ]
  },
  {
   "cell_type": "markdown",
   "metadata": {},
   "source": [
    "# Task 7: Turing Machines"
   ]
  },
  {
   "cell_type": "markdown",
   "metadata": {},
   "source": [
    "For this task, I'll design a Turing Machine that adds 1 to a binary sequence.\n",
    "\n",
    "## Computation with Turing\n",
    "The concept of the Turing machine originates from the 1936 paper [\"On Computable Numbers, with an Application to the Entscheidungsproblem.\"](https://doi.org/10.1112/plms/s2-42.1.230) This relates back to David Hilbert who posed the question: Is there an algorithm that can determine whether a given maths statement is provable? This was Turings answer to that. The machine he created was simple at first glance, surprisingly so in my opinion. But it was more than powerful enough to do what it set out to. It could represent any processes for algorithms it needed to. It predated the invention of physical elctronic computers as we know them by years. He coined the term \"algorithm\" for the actual first time in this work. In his aim to answer Hilbert's question, he proved that many problems were fundametally unsolvable by any possible algorithm.  \n",
    "\n",
    "\n",
    "For the purposes of this task, our turing machine will use the following elements: \n",
    "- A tape, usually divided into cells, each one contains a symbol from a set collection\n",
    "- A \"head\" that reads, writes or updates the symbols in cells\n",
    "- A register that stores current state from a set of available states\n",
    "- A transition system that decides what to do next based on current state and symbol\n",
    "\n",
    "When it comes to the states handling, we'll need to initialise our initial state that the computational process begins in, the acceptance state that tells us process has been succesful and a rejection state that tell us its failed or halted the computational process.\n",
    "\n",
    "So for this approach, we need to to add 1 to the binary sequence. We start at the left-most symbol and should slowly move to the right side (the least significant bit) or in other words, the right-most symbol.\n",
    "This is then proceeded by a different change based on the current bit's state: \n",
    "- If the bit is 0, change it to 1\n",
    "- if the bit is 1, change it to 0 and carry the 1 to the left"
   ]
  },
  {
   "cell_type": "code",
   "execution_count": 196,
   "metadata": {},
   "outputs": [],
   "source": [
    "# R: Move right towards end\n",
    "# A: Add or carry state for incrementing\n",
    "# L: Move left towards start\n",
    "# H: Halt when complete, stop incrementing\n",
    "\n",
    "Q = {'R', 'A', 'L', 'H'} # Our set of states\n",
    "\n",
    "# Tape alphabet, the symbols we can read/write\n",
    "T = {'0', '1', '_'} # _ represents blank space in the tape.\n",
    "\n",
    "b = '_' # Initialize blank space\n",
    "\n",
    "# Input alphabet, the symbols we can read/write that aren't blank\n",
    "A = {'0', '1'}\n",
    "\n",
    "# Set initial state\n",
    "s = 'R'\n",
    "\n",
    "# Set final state\n",
    "F = {'H'}\n",
    "\n"
   ]
  },
  {
   "cell_type": "markdown",
   "metadata": {},
   "source": [
    "So for this, I'll set up a function that defines the rules for this turing machine, so as we can accurately simulate it in Python. This is typically called a transition or increment table. "
   ]
  },
  {
   "cell_type": "code",
   "execution_count": 197,
   "metadata": {},
   "outputs": [],
   "source": [
    "def TuringIncrementTable():\n",
    "    return {\n",
    "        # State R, move right\n",
    "        ('R', '0'): ('R', '0', 'R'),  # If 0, keep moving right\n",
    "        ('R', '1'): ('R', '1', 'R'),  # If 1, keep moving right\n",
    "        ('R', '_'): ('A', '_', 'L'),  # If end, move left to Least significant bit (rightmost digit) and switch to Add state\n",
    "        \n",
    "        # State A, add or carry\n",
    "        ('A', '0'): ('L', '1', 'L'),  # Change 0 to 1, no carry needed, move left\n",
    "        ('A', '1'): ('A', '0', 'L'),  # Change 1 to 0, continue carry, move left\n",
    "        ('A', '_'): ('L', '1', 'L'),  # If we carried past digit fathest to left, add a 1\n",
    "        \n",
    "        # State L, move left\n",
    "        ('L', '0'): ('L', '0', 'L'),  # If 0, keep moving left\n",
    "        ('L', '1'): ('L', '1', 'L'),  # If 1, keep moving left\n",
    "        ('L', '_'): ('H', '_', 'R'),  # Reached beginning, halt machine\n",
    "    }"
   ]
  },
  {
   "cell_type": "markdown",
   "metadata": {},
   "source": [
    "With thse rules in mind, lets develop a function that will simulate a turing machine. This will add 1 to a binary number as prescribed. It'll have numerous arguments. Namely, the transition table itself that defines our rules, an initial binary input passed in as a string and \"verbose\" bool for stating whether we should or shouldn't print each step. The last argument is more for debugging and displaying the process than it is for use in the actual technical implementation."
   ]
  },
  {
   "cell_type": "code",
   "execution_count": 198,
   "metadata": {},
   "outputs": [],
   "source": [
    "def simulateTuringMachine(transitionTable, initialBinary, verbose=True): \n",
    "    if verbose: \n",
    "        print(f\"Initial binary: {initialBinary}\")\n",
    "\n",
    "    # Handle empty input\n",
    "    if initialBinary == '':\n",
    "        initialBinary = '_' # If empty, set to blank space.\n",
    "\n",
    "    # Initialise tape and its position\n",
    "    tape = list(initialBinary)\n",
    "    position = 0 # Start to 0, the left most position of tape.\n",
    "\n",
    "    # Set Initial state\n",
    "    state = 'R' # Start in R state, the 'move right' state.\n",
    "\n",
    "    # Count operations performed\n",
    "    operations = 0\n",
    "\n",
    "    if verbose:\n",
    "        print(f\"Starting configuration: {state}{''.join(tape)}\") # Print starting configuration of tape.\n",
    "\n",
    "    # Loop until we reach halt state\n",
    "    while state != 'H':\n",
    "        # Ensure position is valid (within bounds of tape)\n",
    "        if position < 0: # If we go past left end of tape, add a blank space to left.\n",
    "            tape.insert(0, '_')\n",
    "            position = 0\n",
    "        elif position >= len(tape): # If we go past right end of tape, add a blank space to right.\n",
    "            tape.append('_')\n",
    "\n",
    "        # Get current symbol under tape head\n",
    "        symbol = tape[position]\n",
    "\n",
    "        # Get transition for current state and symbol, according to transition table.\n",
    "        if (state, symbol) in transitionTable:\n",
    "            nextState, nextSymbol, direction = transitionTable[(state, symbol)]\n",
    "\n",
    "            # Update tape and state according to transition\n",
    "            tape[position] = nextSymbol\n",
    "            state = nextState\n",
    "\n",
    "            # Move tape head in specified direction\n",
    "            if direction == 'L':\n",
    "                position -= 1\n",
    "            else: # Move right\n",
    "                position += 1\n",
    "\n",
    "            operations += 1 # Increment operations count\n",
    "\n",
    "            if verbose: \n",
    "                # Print current configuration - state shown at current position\n",
    "                config = ''.join(tape[:position]) + state + ''.join(tape[position:]) # Combine tape into string with state in the middle.\n",
    "                print(f\"Step {operations}: {config}\") \n",
    "\n",
    "            else:\n",
    "                # No transition found, halt machine\n",
    "                if verbose:\n",
    "                    print(f\"No transition defined for state={state}, symbol={symbol}\")\n",
    "                break\n",
    "        \n",
    "        # Clean up any leading/trailing underscores or in our case blanks\n",
    "        while tape and tape[0] == '_':\n",
    "            tape.pop(0) # Remove leading blanks\n",
    "\n",
    "        result = ''.join(tape)\n",
    "\n",
    "        if verbose:\n",
    "            print(f\"Final result after adding 1: {result}\")\n",
    "            print(f\"Total operations: {operations}\")\n",
    "        \n",
    "    return result\n"
   ]
  },
  {
   "cell_type": "markdown",
   "metadata": {},
   "source": [
    "So first the machine starts in state R. Here it will start moving entirely to the right in an effort to find the least significant bit (which is the rightmost digit). This is a simple enough, it just moves right continuously until it hits a blank symbol.\n",
    "\n",
    "Now we move into state A, this is where it starts adding or carrying bits. Once its at the end, it moves left to the least significant bit, if its a 0, it changes it to a 1. It then proceeds to move into state L, denoting that it is done with addition. If it sees a 1 however, it'll change it to a 0 and continue on leftwards as it carries the 1 with it. Note as well that if it ever needs to carry farther than the leftmost digit it'll add a new 1 at that position.\n",
    "\n",
    "Once done with addition, since its in state L, it'll move left towards the beginning. Eventually it finishes in state H (Halt) once it reaches there, it will denote this by a blank symbol to its left."
   ]
  },
  {
   "cell_type": "markdown",
   "metadata": {},
   "source": [
    "For testing purposes, here is a set of test cases to run it through, including the initial example one mentioned. As seen when ran, the turing machine succesfully traverses the binary string per the transition table and reaches the expected outcome. "
   ]
  },
  {
   "cell_type": "code",
   "execution_count": 206,
   "metadata": {},
   "outputs": [
    {
     "name": "stdout",
     "output_type": "stream",
     "text": [
      "TEST CASE START\n",
      "Testing binary increment on: 100111\n",
      "Initial binary: 100111\n",
      "Starting configuration: R100111\n",
      "Step 1: 1R00111\n",
      "Final result after adding 1: 100111\n",
      "Total operations: 1\n",
      "Step 2: 10R0111\n",
      "Final result after adding 1: 100111\n",
      "Total operations: 2\n",
      "Step 3: 100R111\n",
      "Final result after adding 1: 100111\n",
      "Total operations: 3\n",
      "Step 4: 1001R11\n",
      "Final result after adding 1: 100111\n",
      "Total operations: 4\n",
      "Step 5: 10011R1\n",
      "Final result after adding 1: 100111\n",
      "Total operations: 5\n",
      "Step 6: 100111R\n",
      "Final result after adding 1: 100111\n",
      "Total operations: 6\n",
      "Step 7: 10011A1_\n",
      "Final result after adding 1: 100111_\n",
      "Total operations: 7\n",
      "Step 8: 1001A10_\n",
      "Final result after adding 1: 100110_\n",
      "Total operations: 8\n",
      "Step 9: 100A100_\n",
      "Final result after adding 1: 100100_\n",
      "Total operations: 9\n",
      "Step 10: 10A0000_\n",
      "Final result after adding 1: 100000_\n",
      "Total operations: 10\n",
      "Step 11: 1L01000_\n",
      "Final result after adding 1: 101000_\n",
      "Total operations: 11\n",
      "Step 12: L101000_\n",
      "Final result after adding 1: 101000_\n",
      "Total operations: 12\n",
      "Step 13: 101000L_\n",
      "Final result after adding 1: 101000_\n",
      "Total operations: 13\n",
      "Step 14: _H101000_\n",
      "Final result after adding 1: 101000_\n",
      "Total operations: 14\n",
      "INPUT: 100111, RESULT: 101000_\n",
      "TEST CASE START\n",
      "Testing binary increment on: 0\n",
      "Initial binary: 0\n",
      "Starting configuration: R0\n",
      "Step 1: 0R\n",
      "Final result after adding 1: 0\n",
      "Total operations: 1\n",
      "Step 2: A0_\n",
      "Final result after adding 1: 0_\n",
      "Total operations: 2\n",
      "Step 3: 1L_\n",
      "Final result after adding 1: 1_\n",
      "Total operations: 3\n",
      "Step 4: _H1_\n",
      "Final result after adding 1: 1_\n",
      "Total operations: 4\n",
      "INPUT: 0, RESULT: 1_\n",
      "TEST CASE START\n",
      "Testing binary increment on: 1\n",
      "Initial binary: 1\n",
      "Starting configuration: R1\n",
      "Step 1: 1R\n",
      "Final result after adding 1: 1\n",
      "Total operations: 1\n",
      "Step 2: A1_\n",
      "Final result after adding 1: 1_\n",
      "Total operations: 2\n",
      "Step 3: 0A_\n",
      "Final result after adding 1: 0_\n",
      "Total operations: 3\n",
      "Step 4: 10L_\n",
      "Final result after adding 1: 10_\n",
      "Total operations: 4\n",
      "Step 5: _H10_\n",
      "Final result after adding 1: 10_\n",
      "Total operations: 5\n",
      "INPUT: 1, RESULT: 10_\n",
      "TEST CASE START\n",
      "Testing binary increment on: 11\n",
      "Initial binary: 11\n",
      "Starting configuration: R11\n",
      "Step 1: 1R1\n",
      "Final result after adding 1: 11\n",
      "Total operations: 1\n",
      "Step 2: 11R\n",
      "Final result after adding 1: 11\n",
      "Total operations: 2\n",
      "Step 3: 1A1_\n",
      "Final result after adding 1: 11_\n",
      "Total operations: 3\n",
      "Step 4: A10_\n",
      "Final result after adding 1: 10_\n",
      "Total operations: 4\n",
      "Step 5: 00A_\n",
      "Final result after adding 1: 00_\n",
      "Total operations: 5\n",
      "Step 6: 100L_\n",
      "Final result after adding 1: 100_\n",
      "Total operations: 6\n",
      "Step 7: _H100_\n",
      "Final result after adding 1: 100_\n",
      "Total operations: 7\n",
      "INPUT: 11, RESULT: 100_\n",
      "TEST CASE START\n",
      "Testing binary increment on: 1111\n",
      "Initial binary: 1111\n",
      "Starting configuration: R1111\n",
      "Step 1: 1R111\n",
      "Final result after adding 1: 1111\n",
      "Total operations: 1\n",
      "Step 2: 11R11\n",
      "Final result after adding 1: 1111\n",
      "Total operations: 2\n",
      "Step 3: 111R1\n",
      "Final result after adding 1: 1111\n",
      "Total operations: 3\n",
      "Step 4: 1111R\n",
      "Final result after adding 1: 1111\n",
      "Total operations: 4\n",
      "Step 5: 111A1_\n",
      "Final result after adding 1: 1111_\n",
      "Total operations: 5\n",
      "Step 6: 11A10_\n",
      "Final result after adding 1: 1110_\n",
      "Total operations: 6\n",
      "Step 7: 1A100_\n",
      "Final result after adding 1: 1100_\n",
      "Total operations: 7\n",
      "Step 8: A1000_\n",
      "Final result after adding 1: 1000_\n",
      "Total operations: 8\n",
      "Step 9: 0000A_\n",
      "Final result after adding 1: 0000_\n",
      "Total operations: 9\n",
      "Step 10: 10000L_\n",
      "Final result after adding 1: 10000_\n",
      "Total operations: 10\n",
      "Step 11: _H10000_\n",
      "Final result after adding 1: 10000_\n",
      "Total operations: 11\n",
      "INPUT: 1111, RESULT: 10000_\n"
     ]
    },
    {
     "data": {
      "text/plain": [
       "'All tests completed'"
      ]
     },
     "execution_count": 206,
     "metadata": {},
     "output_type": "execute_result"
    }
   ],
   "source": [
    "# Test with the example: 100111 -> 101000\n",
    "def testTuringIncrement():\n",
    "    # set the transition table\n",
    "    transitionTable = TuringIncrementTable()\n",
    "    \n",
    "    # Test cases - the example from task plus a couple of edge cases.\n",
    "    testCases = [\n",
    "        \"100111\",  # 100111 + 1 = 101000\n",
    "        \"0\",       # 0 + 1 = 1\n",
    "        \"1\",       # 1 + 1 = 10\n",
    "        \"11\",      # 3 + 1 = 4 (11 + 1 = 100)\n",
    "        \"1111\",    # 15 + 1 = 16 (1111 + 1 = 10000)\n",
    "    ]\n",
    "    \n",
    "    for test in testCases:\n",
    "        print(\"TEST CASE START\")\n",
    "        print(f\"Testing binary increment on: {test}\")\n",
    "        result = simulateTuringMachine(transitionTable, test, verbose=True)\n",
    "        print(f\"INPUT: {test}, RESULT: {result}\")\n",
    "        \n",
    "    return \"All tests completed\"\n",
    "\n",
    "# Run the tests\n",
    "testTuringIncrement()"
   ]
  },
  {
   "cell_type": "markdown",
   "metadata": {},
   "source": [
    "## Turing Machine Limitations\n",
    "There are some [limitations to what the Turing Machine](https://doi.org/10.1112/plms/s2-43.6.544) can do, in which Alan Turing himself proved. These include: \n",
    "- Halting problem, figuring out will any possible program eventually stop.\n",
    "- Entscheidungsproblem problem, figuring if a mathematical statement is provable.\n",
    "- Rice's Theorem, any non-trivial property about the behaviour of programs."
   ]
  },
  {
   "cell_type": "markdown",
   "metadata": {},
   "source": [
    "## Turing Machine Uses\n",
    "The principles of a Turing Machine are very clearly foundational to much of computational work today. The principles it brought are all over, such as: \n",
    "- [Compiler designs](https://www.pearson.com/us/higher-education/program/Aho-Compilers-Principles-Techniques-and-Tools-2nd-Edition/PGM167067.html) were influenced by state machines for analysis of lexicons. \n",
    "- Regular Expressions are essentially [limited versions of Turing Machines](https://doi.org/10.1145/363347.363387).\n",
    "- Algorithm Analysis: Turing Machines are fundamental for understand computational complexity (explored more in next task), algorithms as a whole and their origins.\n",
    "\n",
    "\n"
   ]
  },
  {
   "cell_type": "markdown",
   "metadata": {},
   "source": [
    "# Task 8: Computational Complexity"
   ]
  },
  {
   "cell_type": "markdown",
   "metadata": {},
   "source": [
    "## Computational Complexity Theory\n",
    "This is a branch of Computer Science many would consider foundational. It studies resources like time and space required to solve different computational problems. It emerged in the 60s and 70s with the work of researchers like Richard Karp, Michael Rabin and Stephen Cook who at the time, established several structured frameworks that allowed for analysing algorithms and their efficiency. The field of Computational Complexity aims to tackle questions like \"How efficiently can we solve this problem?\" or \"What limitations does this algorithm have?\" - [*The complexity of theorem-proving procedures*. In Proceedings of the Third Annual ACM Symposium on Theory of Computing](https://doi.org/10.1145/800157.805047)\n",
    "\n",
    "For a lot of this, we use what known as Asymptotic notation, this is where Big O notation comes from, along with [Omega and Theta](https://doi.org/10.1145/1008328.1008329). As an example of how these systems are used, Bubble Sort (which we're about to implement) typically has a time complexity of O(n²) at the average to worst cases, but in the best cases scenario it'll manage O(n), but this is only when the array is already sorted. For space complexity, it has O(1) because it simply sorts in-place. - [*Computers and Intractability: A Guide to the Theory of NP-Completeness*](http://www.csc.kth.se/~viggo/problemlist/compendium.html)"
   ]
  },
  {
   "cell_type": "markdown",
   "metadata": {},
   "source": [
    "## What is Bubble Sort?\n",
    "\n",
    "Bubble sort is a well known algorithm across programming. For the unfamilliar, it works by stepping through a list of numbers or units repeatedly and comparing their adjacent elements, we then swap them if they're order is incorrect. Its name derives from the fact that elements slowly \"bubble\" to the top of the list as the iterations sort it. Bubble sort isn't always the most efficient choice for larger datasets, but I find its easily understandable and effective to implement. Its memory overhead is minimal enough and great for learning to understand sorting algorithms. - [*The Art of Computer Programming, Volume 3: Sorting and Searching*](https://www-cs-faculty.stanford.edu/~knuth/taocp.html)"
   ]
  },
  {
   "cell_type": "markdown",
   "metadata": {},
   "source": [
    "### Array Traversal\n",
    "The first step to accomplishing a general implementation of bubble sort is the traversal process. We should always start at the very beginning of our array. We compare its one adjacent element (to the right). If our initial is greater than the second for example, they are swapped. "
   ]
  },
  {
   "cell_type": "markdown",
   "metadata": {},
   "source": [
    "### Comparisons or \"Bubbling\" Process\n",
    "\n",
    "After that is the \"bubbling\" step so to speak. This is a continuation of before. So we progress each time through each pair of adjacent elements until we reach the end. Each pair swapping if necessary as they go, After one entire pass through, our largest element of the list should now be at the top.. or else something has gone horribly wrong. "
   ]
  },
  {
   "cell_type": "code",
   "execution_count": 200,
   "metadata": {},
   "outputs": [
    {
     "name": "stdout",
     "output_type": "stream",
     "text": [
      "Initial array: [5, 1, 4, 2, 3]\n",
      "  Swap 5 and 1\n",
      "  Array after swap: [1, 5, 4, 2, 3]\n",
      "  Swap 5 and 4\n",
      "  Array after swap: [1, 4, 5, 2, 3]\n",
      "  Swap 5 and 2\n",
      "  Array after swap: [1, 4, 2, 5, 3]\n",
      "  Swap 5 and 3\n",
      "  Array after swap: [1, 4, 2, 3, 5]\n",
      "After one pass: [1, 4, 2, 3, 5]\n",
      "Notice how the largest element (5) has bubbled up to the end!\n"
     ]
    },
    {
     "data": {
      "text/plain": [
       "[1, 4, 2, 3, 5]"
      ]
     },
     "execution_count": 200,
     "metadata": {},
     "output_type": "execute_result"
    }
   ],
   "source": [
    "# Snippit code of bubbling up process\n",
    "def bubbleUp(arr):\n",
    "    arrLength = len(arr)\n",
    "    \n",
    "    print(f\"Initial array: {arr}\")\n",
    "    \n",
    "    # Single pass demonstration\n",
    "    for j in range(arrLength-1):\n",
    "        # Compare adjacent elements\n",
    "        if arr[j] > arr[j+1]:\n",
    "            # Swap if they are in the wrong order\n",
    "            print(f\"  Swap {arr[j]} and {arr[j+1]}\")\n",
    "            arr[j], arr[j+1] = arr[j+1], arr[j]\n",
    "            print(f\"  Array after swap: {arr}\")\n",
    "        else:\n",
    "            print(f\"  No swap needed for {arr[j]} and {arr[j+1]}\")\n",
    "    \n",
    "    print(f\"After one pass: {arr}\")\n",
    "    print(f\"Notice how the largest element ({max(arr)}) has bubbled up to the end!\")\n",
    "    \n",
    "    return arr\n",
    "\n",
    "# Example usage\n",
    "sample_array = [5, 1, 4, 2, 3]\n",
    "bubbleUp(sample_array)"
   ]
  },
  {
   "cell_type": "code",
   "execution_count": 201,
   "metadata": {},
   "outputs": [
    {
     "name": "stdout",
     "output_type": "stream",
     "text": [
      "Initial array: [5, 3, 4, 2, 1]\n",
      "  Swap 1 and 2\n",
      "  Array after swap: [5, 3, 4, 1, 2]\n",
      "  Swap 1 and 4\n",
      "  Array after swap: [5, 3, 1, 4, 2]\n",
      "  Swap 1 and 3\n",
      "  Array after swap: [5, 1, 3, 4, 2]\n",
      "  Swap 1 and 5\n",
      "  Array after swap: [1, 5, 3, 4, 2]\n",
      "After one pass: [1, 5, 3, 4, 2]\n",
      "Notice how the smallest element (1) has bubbled down to the beginning!\n"
     ]
    },
    {
     "data": {
      "text/plain": [
       "[1, 5, 3, 4, 2]"
      ]
     },
     "execution_count": 201,
     "metadata": {},
     "output_type": "execute_result"
    }
   ],
   "source": [
    "# Snippit code of bubbling down process\n",
    "def bubbleDown(arr):\n",
    "    arrLength = len(arr)\n",
    "    \n",
    "    print(f\"Initial array: {arr}\")\n",
    "    \n",
    "    # Single pass demonstration (starting from the end)\n",
    "    for j in range(arrLength-1, 0, -1):\n",
    "        # Compare adjacent elements\n",
    "        if arr[j] < arr[j-1]:\n",
    "            # Swap if they are in the wrong order\n",
    "            print(f\"  Swap {arr[j]} and {arr[j-1]}\")\n",
    "            arr[j], arr[j-1] = arr[j-1], arr[j]\n",
    "            print(f\"  Array after swap: {arr}\")\n",
    "        else:\n",
    "            print(f\"  No swap needed for {arr[j]} and {arr[j-1]}\")\n",
    "    \n",
    "    print(f\"After one pass: {arr}\")\n",
    "    print(f\"Notice how the smallest element ({min(arr)}) has bubbled down to the beginning!\")\n",
    "    \n",
    "    return arr\n",
    "\n",
    "# Example usage\n",
    "sample_array = [5, 3, 4, 2, 1]\n",
    "bubbleDown(sample_array)"
   ]
  },
  {
   "cell_type": "markdown",
   "metadata": {},
   "source": [
    "### Subsequent Passes\n",
    "After this things are pretty self explanatory, the algorithm repeats the previous process for the remaining elements until there's no longer any incorrect positioning. This of course, ignores the elements sorted to the end in previous passes."
   ]
  },
  {
   "cell_type": "code",
   "execution_count": 202,
   "metadata": {},
   "outputs": [
    {
     "name": "stdout",
     "output_type": "stream",
     "text": [
      "Initial array: [5, 1, 4, 2, 8]\n",
      "\n",
      "Pass 1:\n",
      "  Starting: [5, 1, 4, 2, 8]\n",
      "  Swap 5 and 1\n",
      "  Swap 5 and 4\n",
      "  Swap 5 and 2\n",
      "  After pass 1: [1, 4, 2, 5, 8]\n",
      "\n",
      "Pass 2:\n",
      "  Starting: [1, 4, 2, 5, 8]\n",
      "  Swap 4 and 2\n",
      "  After pass 2: [1, 2, 4, 5, 8]\n",
      "\n",
      "Pass 3:\n",
      "  Starting: [1, 2, 4, 5, 8]\n",
      "  After pass 3: [1, 2, 4, 5, 8]\n",
      "  No swaps in this pass - array is sorted!\n"
     ]
    },
    {
     "data": {
      "text/plain": [
       "[1, 2, 4, 5, 8]"
      ]
     },
     "execution_count": 202,
     "metadata": {},
     "output_type": "execute_result"
    }
   ],
   "source": [
    "# Snippit code of subsequent passes\n",
    "def visualizePasses(arr):\n",
    "    arrLength = len(arr)\n",
    "    \n",
    "    print(f\"Initial array: {arr}\")\n",
    "    \n",
    "    # Traverse through all array elements\n",
    "    for i in range(arrLength):\n",
    "        # Track if any swaps were made in this pass\n",
    "        swapped = False\n",
    "        \n",
    "        print(f\"\\nPass {i+1}:\")\n",
    "        print(f\"  Starting: {arr}\")\n",
    "        \n",
    "        # Last i elements are already in place\n",
    "        for j in range(0, arrLength-i-1):\n",
    "            # Compare adjacent elements\n",
    "            if arr[j] > arr[j+1]:\n",
    "                # Swap if they are in the wrong order\n",
    "                print(f\"  Swap {arr[j]} and {arr[j+1]}\")\n",
    "                arr[j], arr[j+1] = arr[j+1], arr[j]\n",
    "                swapped = True\n",
    "        \n",
    "        print(f\"  After pass {i+1}: {arr}\")\n",
    "        \n",
    "        # If no swapping occurred in this pass, array is sorted\n",
    "        if not swapped:\n",
    "            print(f\"  No swaps in this pass - array is sorted!\")\n",
    "            break\n",
    "    \n",
    "    return arr\n",
    "\n",
    "# Example usage\n",
    "sample_array = [5, 1, 4, 2, 8]\n",
    "visualizePasses(sample_array)"
   ]
  },
  {
   "cell_type": "markdown",
   "metadata": {},
   "source": [
    "### Optimization\n",
    "A minor addition I tried here was using a swapped boolean to give this algorithm the ability to stop early if nothing was swapped in an entire pass through the array. This implies its already sorted, so we can abort the process early. "
   ]
  },
  {
   "cell_type": "markdown",
   "metadata": {},
   "source": [
    "### Final Product"
   ]
  },
  {
   "cell_type": "code",
   "execution_count": 203,
   "metadata": {},
   "outputs": [
    {
     "name": "stdout",
     "output_type": "stream",
     "text": [
      "Unsorted array: [64, 34, 25, 12, 22, 11, 90]\n",
      "Initial array: [64, 34, 25, 12, 22, 11, 90], length: 7 \n",
      "\n",
      "Pass 1: [34, 25, 12, 22, 11, 64, 90]\n",
      "Pass 2: [25, 12, 22, 11, 34, 64, 90]\n",
      "Pass 3: [12, 22, 11, 25, 34, 64, 90]\n",
      "Pass 4: [12, 11, 22, 25, 34, 64, 90]\n",
      "Pass 5: [11, 12, 22, 25, 34, 64, 90]\n",
      "Pass 6: [11, 12, 22, 25, 34, 64, 90]\n",
      "\n",
      "Sorted array: [11, 12, 22, 25, 34, 64, 90]\n"
     ]
    }
   ],
   "source": [
    "def bubbleSort(arr): # Takes in a list of numbers to sort.\n",
    "    arrLength = len(arr) # Get the length of array.\n",
    "\n",
    "    # Print the initial array for debugging purposes.\n",
    "    print(f\"Initial array: {arr}, length: {arrLength} \\n\")\n",
    "\n",
    "    # Traverse through the array, for each pass.\n",
    "    # The outer loop represents the number of passes through the array, while the inner loop represents the comparisons made in each pass.\n",
    "    # The outer loop runs for the length of the array, while the inner loop runs for the length of the array minus the current pass number.\n",
    "    for i in range(arrLength):\n",
    "        swapped = False # Set swapped to False at start of each pass.\n",
    "        for j in range(0, arrLength - i - 1):\n",
    "            if arr[j] > arr[j + 1]:\n",
    "                # Swap if element found is greater than next element\n",
    "                arr[j], arr[j + 1] = arr[j + 1], arr[j]\n",
    "                swapped = True\n",
    "        # Print array state after a pass, for debugging purposes.\n",
    "        print(f\"Pass {i+1}: {arr}\")\n",
    "        \n",
    "        # If no swapping occurred in pass, array is sorted\n",
    "        if not swapped:\n",
    "            break\n",
    "            \n",
    "    return arr\n",
    "\n",
    "# Initial test of our bubble sort function\n",
    "arr = [64, 34, 25, 12, 22, 11, 90]\n",
    "print(\"Unsorted array:\", arr)\n",
    "sorted_arr = bubbleSort(arr)\n",
    "print(\"\\nSorted array:\", sorted_arr)\n",
    "\n"
   ]
  },
  {
   "cell_type": "markdown",
   "metadata": {},
   "source": [
    "### Various examples\n",
    "Here are some general examples of the bubble sort in operation. Including already sorted arrays and reversed ones being passed into the method. "
   ]
  },
  {
   "cell_type": "code",
   "execution_count": 204,
   "metadata": {},
   "outputs": [
    {
     "name": "stdout",
     "output_type": "stream",
     "text": [
      "Sorting test_array1:\n",
      "Initial array: [64, 34, 25, 12, 22, 11, 90], length: 7 \n",
      "\n",
      "Pass 1: [34, 25, 12, 22, 11, 64, 90]\n",
      "Pass 2: [25, 12, 22, 11, 34, 64, 90]\n",
      "Pass 3: [12, 22, 11, 25, 34, 64, 90]\n",
      "Pass 4: [12, 11, 22, 25, 34, 64, 90]\n",
      "Pass 5: [11, 12, 22, 25, 34, 64, 90]\n",
      "Pass 6: [11, 12, 22, 25, 34, 64, 90]\n",
      "\n",
      "Sorting test_array2:\n",
      "Initial array: [5, 1, 4, 2, 8], length: 5 \n",
      "\n",
      "Pass 1: [1, 4, 2, 5, 8]\n",
      "Pass 2: [1, 2, 4, 5, 8]\n",
      "Pass 3: [1, 2, 4, 5, 8]\n",
      "\n",
      "Sorting already sorted array:\n",
      "Initial array: [1, 2, 3, 4, 5], length: 5 \n",
      "\n",
      "Pass 1: [1, 2, 3, 4, 5]\n",
      "\n",
      "Sorting reverse sorted array:\n",
      "Initial array: [5, 4, 3, 2, 1], length: 5 \n",
      "\n",
      "Pass 1: [4, 3, 2, 1, 5]\n",
      "Pass 2: [3, 2, 1, 4, 5]\n",
      "Pass 3: [2, 1, 3, 4, 5]\n",
      "Pass 4: [1, 2, 3, 4, 5]\n",
      "Pass 5: [1, 2, 3, 4, 5]\n"
     ]
    },
    {
     "data": {
      "text/plain": [
       "[1, 2, 3, 4, 5]"
      ]
     },
     "execution_count": 204,
     "metadata": {},
     "output_type": "execute_result"
    }
   ],
   "source": [
    "# Test with some examples\n",
    "test_array1 = [64, 34, 25, 12, 22, 11, 90]\n",
    "print(\"Sorting test_array1:\")\n",
    "bubbleSort(test_array1)\n",
    "\n",
    "print(\"\\nSorting test_array2:\")\n",
    "test_array2 = [5, 1, 4, 2, 8]\n",
    "bubbleSort(test_array2)\n",
    "\n",
    "# Test with an already sorted array\n",
    "print(\"\\nSorting already sorted array:\")\n",
    "test_array3 = [1, 2, 3, 4, 5]\n",
    "bubbleSort(test_array3)\n",
    "\n",
    "# Test with a reverse sorted array\n",
    "print(\"\\nSorting reverse sorted array:\")\n",
    "test_array4 = [5, 4, 3, 2, 1]\n",
    "bubbleSort(test_array4)"
   ]
  },
  {
   "cell_type": "markdown",
   "metadata": {},
   "source": [
    "## Time Complexity of Bubble Sort\n",
    "As mentioned previously, Bubble Sort on average has a Time Complexity of O(n²), if we compare this against other sorting algorithms... its not ideal. Merge Sort for comparison is O(n log n), Quick Sort and selection sort are both O(n²) aswell at their worst, but they're not as stable as Bubble Sort. Our work here does highlight something pretty important which is worst and average cases vs best cases. While theoretically, our performance could be O(n) with Bubble Sort at its best, this is rarely the case and in actual practical scenarios, we cannot rely on it being the case. Using different examples above shows us how it behaves in different instances or degrees of sorted. The examples take a variety of passes to sort, varying quite a bit based on their input. - [*Introduction to the Design and Analysis of Algorithms* (3rd ed.). Pearson. Chapter 3: Brute Force and Exhaustive Search.](https://www.pearson.com/us/higher-education/program/Levitin-Introduction-to-the-Design-and-Analysis-of-Algorithms-3rd-Edition/PGM229455.html)"
   ]
  },
  {
   "cell_type": "markdown",
   "metadata": {},
   "source": [
    "## Some Background\n",
    "Bubble sort is one of the classic older sorting algorithms that is still used heavily to this day. It is however, considered quite inefficient for larger datasets as discussed above. Why do we still use it? Well its thought to be easy to implement and understand, making it very useful for teaching purposes. The code needed is minimal enough, conceptually its very easy to wrap your head around and it uses little memory to operate. Its also very stable, preserving the relative order of equal elements.\n",
    "\n",
    "- [*History of sorting algorithms*](https://doi.org/10.1145/800025.1198367)\n",
    "- [*Sorting networks and their applications*](https://doi.org/10.1145/1468075.1468121)"
   ]
  },
  {
   "cell_type": "markdown",
   "metadata": {},
   "source": [
    "## Bubble Sort Uses\n",
    "Even though it isn't neccessarally the most efficient sorting algorithm, it still finds uses across the industry today. - [*Data Structures, Algorithms, and Applications in Java*](https://www.cise.ufl.edu/~sahni/dsaaj/)\n",
    "- Smaller datasets make great use of it. When n is on the smaller side, it can be far more competitive of an option. \n",
    "- Its very efficient for data that is almost sorted, its best case scenario of O(n) makes it efficient for this.\n",
    "- As discussed it has great use in educational settings for teaching about sorting algorithms and computational complexity. I for one can back up that it has had an impact researching it on my understanding of Time Complexity as a concept. \n",
    "- Its easy to implement, which for many cases can be of benefit. In terms of space complexity, since its an in-place algorithm, it can be easier for lots of hardware to implement.\n",
    "- When memory and resources are limited on a platform, bubble sort can be far more valuable with O(1) space complexity."
   ]
  }
 ],
 "metadata": {
  "kernelspec": {
   "display_name": "Python 3",
   "language": "python",
   "name": "python3"
  },
  "language_info": {
   "codemirror_mode": {
    "name": "ipython",
    "version": 3
   },
   "file_extension": ".py",
   "mimetype": "text/x-python",
   "name": "python",
   "nbconvert_exporter": "python",
   "pygments_lexer": "ipython3",
   "version": "3.12.1"
  }
 },
 "nbformat": 4,
 "nbformat_minor": 2
}
