{
 "cells": [
  {
   "cell_type": "markdown",
   "metadata": {},
   "source": [
    "# Computational Theory - Shane Walsh - G00406694\n",
    "\n",
    "## Task 1: Binary Representations\n",
    "Create four functions in Python, demonstrating their use with examples and tests.\n",
    "1. The function rotl(x, n=1) that rotates the bits in a 32-bit unsigned integer to the left n places.\n",
    "\n",
    "2. The function rotr(x, n=1) that rotates the bits in a 32-bit unsigned integer to the right n places.\n",
    "\n",
    "3. The function ch(x, y, z) that chooses the bits from y where x has bits set to 1 and bits in z where x has bits set to 0.\n",
    "\n",
    "4. The function maj(x, y, z) which takes a majority vote of the bits in x, y, and z.\n",
    "\n",
    "The output should have a 1 in bit position i where at least two of x, y, and z have 1's in position i.\n",
    "All other output bit positions should be 0."
   ]
  },
  {
   "cell_type": "markdown",
   "metadata": {},
   "source": [
    "## 1. The function rotl(x, n=1)\n",
    "\n",
    "Bitwise left shift is <<\n",
    "Bitwise right shift is >>\n",
    "\n",
    "The use of 0xFFFFFFFF with the AND operator is what's known as masking. This ensures "
   ]
  },
  {
   "cell_type": "markdown",
   "metadata": {},
   "source": []
  },
  {
   "cell_type": "code",
   "execution_count": 67,
   "metadata": {},
   "outputs": [
    {
     "name": "stdout",
     "output_type": "stream",
     "text": [
      "rotl(0b1100, 2): 0b110000\n",
      "rotl(0b1100, 3): 0b1100000\n"
     ]
    }
   ],
   "source": [
    "import numpy as np\n",
    "\n",
    "# Math.\n",
    "import math\n",
    "\n",
    "def rotl(x, n=1):\n",
    "    return ((x << n) | (x >> (32 - n))) & 0xFFFFFFFF # << shifts the bits to left, >> shifts the bits to right.\n",
    "\n",
    "x = 0b1100\n",
    "print(f'rotl(0b1100, 2): {bin(rotl(x, 2))}')\n",
    "print(f'rotl(0b1100, 3): {bin(rotl(x, 3))}')"
   ]
  },
  {
   "cell_type": "markdown",
   "metadata": {},
   "source": [
    "## 2. The function rotr(x, n=1)"
   ]
  },
  {
   "cell_type": "code",
   "execution_count": 68,
   "metadata": {},
   "outputs": [
    {
     "name": "stdout",
     "output_type": "stream",
     "text": [
      "rotr(0b1100, 2): 0b11\n"
     ]
    }
   ],
   "source": [
    "def rotr(x, n=1):\n",
    "    return (x >> n) | ((x << (32 - n)) & 0xFFFFFFFF)\n",
    "\n",
    "x = 0b1100\n",
    "\n",
    "# Test the function.\n",
    "print(f'rotr(0b1100, 2): {bin(rotr(x, 2))}')"
   ]
  },
  {
   "cell_type": "markdown",
   "metadata": {},
   "source": [
    "## 3. The function ch(x, y, z)"
   ]
  },
  {
   "cell_type": "code",
   "execution_count": 69,
   "metadata": {},
   "outputs": [
    {
     "name": "stdout",
     "output_type": "stream",
     "text": [
      "ch(0b1100, 0b1010, 0b1001): 0b1001\n"
     ]
    }
   ],
   "source": [
    "def ch(x, y, z): # choose between x, y, z. \n",
    "    return (x & y) ^ (~x & z) # & is bitwise AND, ^ is bitwise XOR, ~ is bitwise NOT. So this returns x AND y XOR NOT x AND z.\n",
    "\n",
    "x = 0b1100\n",
    "y = 0b1010\n",
    "z = 0b1001\n",
    "\n",
    "print(f'ch(0b1100, 0b1010, 0b1001): {bin(ch(x, y, z))}')"
   ]
  },
  {
   "cell_type": "markdown",
   "metadata": {},
   "source": [
    "## 4. The function maj(x, y, z)"
   ]
  },
  {
   "cell_type": "code",
   "execution_count": 70,
   "metadata": {},
   "outputs": [
    {
     "name": "stdout",
     "output_type": "stream",
     "text": [
      "maj(0b1100, 0b1010, 0b1001): 0b1000\n",
      "maj(0b1100, 0b1010, 0b1010): 0b1010\n"
     ]
    }
   ],
   "source": [
    "def maj(x, y, z): # Takes a majority vote of x, y, z.\n",
    "    return (x & y) ^ (x & z) ^ (y & z) # ^ means XOR. So this returns x AND y XOR x AND z XOR y AND z.\n",
    "\n",
    "x = 0b1100\n",
    "y = 0b1010\n",
    "z = 0b1001\n",
    "\n",
    "x1 = 0b1100\n",
    "y1 = 0b1010\n",
    "z1 = 0b1010\n",
    "\n",
    "# Examples\n",
    "print(f'maj(0b1100, 0b1010, 0b1001): {bin(maj(x, y, z))}')\n",
    "print(f'maj(0b1100, 0b1010, 0b1010): {bin(maj(x1, y1, z1))}')"
   ]
  },
  {
   "cell_type": "markdown",
   "metadata": {},
   "source": [
    "## Task 2: Hash Functions\n",
    "The following hash function is from The C Programming Language by Brian Kernighan and Dennis Ritchie.\n",
    "Convert it to Python, test it, and suggest why the values 31 and 101 are used.\n",
    "\n",
    "unsigned hash(char *s) {\n",
    "    unsigned hashval;\n",
    "    for (hashval = 0; *s != '\\0'; s++)\n",
    "        hashval = *s + 31 * hashval;\n",
    "    return hashval % 101;\n",
    "}"
   ]
  },
  {
   "cell_type": "markdown",
   "metadata": {},
   "source": [
    "I'll now convert this hash function from the C Programming language to python. This will require quite a few changes to the code. We don't need to declare variable types. While the hash function in C uses pointer's and null terminator checking, Python makes this much simpler as we can just iterate directly over the string. "
   ]
  },
  {
   "cell_type": "code",
   "execution_count": 71,
   "metadata": {},
   "outputs": [],
   "source": [
    "def Hash_string(s): # No need to declare var, just use it with the input, no pointer.\n",
    "    hashval = 0 # No use of 'unsigned' in Python.\n",
    "    # Iterate directly over string.\n",
    "    for c in s:\n",
    "        hashval = ord(c) + 31 * hashval # ord() returns ASCII value of char, 31 is prime number, good for hashing.\n",
    "    return hashval % 101 # Modulus is unchanged, 101 is prime number, reduces collisions."
   ]
  },
  {
   "cell_type": "markdown",
   "metadata": {},
   "source": [
    "The final conversion would look like this. Rather than dereferencing the character pointer in C, we can use Python's ord() function to pull out the relevant ASCII value of a character. THe modulus element on the hashVal has no necessary changes.\n",
    "\n",
    "Ord function - https://docs.python.org/3.4/library/functions.html"
   ]
  },
  {
   "cell_type": "markdown",
   "metadata": {},
   "source": [
    "The numbers 31 and 101 are prime numbers. To my knowledge, using prime numbers for hash values gives us a smoother distribution. 101 helps determine our hash table size and reduce collisions which can quite easily come up. "
   ]
  },
  {
   "cell_type": "code",
   "execution_count": 72,
   "metadata": {},
   "outputs": [
    {
     "name": "stdout",
     "output_type": "stream",
     "text": [
      "Hash_string(\"hello\"): 17\n",
      "Hash_string(\"world\"): 34\n",
      "Hash_string(\"hello world\"): 13\n"
     ]
    }
   ],
   "source": [
    "# Testing Hash function\n",
    "print(f'Hash_string(\"hello\"): {Hash_string(\"hello\")}')\n",
    "print(f'Hash_string(\"world\"): {Hash_string(\"world\")}')\n",
    "print(f'Hash_string(\"hello world\"): {Hash_string(\"hello world\")}')"
   ]
  },
  {
   "cell_type": "markdown",
   "metadata": {},
   "source": [
    "## Task 3: SHA256\n",
    "\n",
    "Write a Python function that calculates the SHA256 padding for a given file.  \n",
    "The function should take a file path as input.  \n",
    "It should print, in hex, the padding that would be applied to it.  \n",
    "The [specification](https://doi.org/10.6028/NIST.FIPS.180-4) states that the following should be appended to a message:  \n",
    "\n",
    "- a`1` bit;\n",
    "- enough `0` bits so the length in bits of padded message is the smallest possible multiple of 512;\n",
    "- the length in bits of the original input as a big-endian 64-bit unsigned integer.\n",
    "\n",
    "The example in the specification is a file containing the three bytes `abc`:  \n",
    "\n",
    "```python\n",
    "01100001 01100010 01100011\n",
    "```\n",
    "\n",
    "The output would be:  \n",
    "\n",
    "```python\n",
    "80 00 00 00 00 00 00 00 00 00 00 00 00 00 00 00 00 00 00 00 00 00 00 00 00 00\n",
    "00 00 00 00 00 00 00 00 00 00 00 00 00 00 00 00 00 00 00 00 00 00 00 00 00 00\n",
    "00 00 00 00 00 00 00 00 18\n",
    "```"
   ]
  },
  {
   "cell_type": "code",
   "execution_count": null,
   "metadata": {},
   "outputs": [],
   "source": []
  },
  {
   "cell_type": "markdown",
   "metadata": {},
   "source": [
    "## Task 4: Prime Numbers\n",
    "\n",
    "Calculate the first 100 prime numbers using two different algorithms.  \n",
    "Any algorithms that are well-established and works correctly are okay to use.  \n",
    "Explain how the algorithms work."
   ]
  }
 ],
 "metadata": {
  "kernelspec": {
   "display_name": "Python 3",
   "language": "python",
   "name": "python3"
  },
  "language_info": {
   "codemirror_mode": {
    "name": "ipython",
    "version": 3
   },
   "file_extension": ".py",
   "mimetype": "text/x-python",
   "name": "python",
   "nbconvert_exporter": "python",
   "pygments_lexer": "ipython3",
   "version": "3.12.1"
  }
 },
 "nbformat": 4,
 "nbformat_minor": 2
}
