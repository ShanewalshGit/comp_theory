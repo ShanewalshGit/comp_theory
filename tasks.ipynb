{
 "cells": [
  {
   "cell_type": "markdown",
   "metadata": {},
   "source": [
    "# Computational Theory - Shane Walsh - G00406694\n",
    "\n",
    "## Task 1: Binary Representations\n",
    "Create four functions in Python, demonstrating their use with examples and tests.\n",
    "1. The function rotl(x, n=1) that rotates the bits in a 32-bit unsigned integer to the left n places.\n",
    "\n",
    "2. The function rotr(x, n=1) that rotates the bits in a 32-bit unsigned integer to the right n places.\n",
    "\n",
    "3. The function ch(x, y, z) that chooses the bits from y where x has bits set to 1 and bits in z where x has bits set to 0.\n",
    "\n",
    "4. The function maj(x, y, z) which takes a majority vote of the bits in x, y, and z.\n",
    "\n",
    "The output should have a 1 in bit position i where at least two of x, y, and z have 1's in position i.\n",
    "All other output bit positions should be 0."
   ]
  },
  {
   "cell_type": "markdown",
   "metadata": {},
   "source": [
    "## 1. The function rotl(x, n=1)\n",
    "\n",
    "This function goes through a process of rotating bits in a 32-bit unsigned integer to a direction. In this case, to the left by a a set number (such as 1 or 2) of positions. To implement this, we first need to understand the syntax for Bitwise shifting.\n",
    "\n",
    "Bitwise left shift is <<\n",
    "Bitwise right shift is >>"
   ]
  },
  {
   "cell_type": "code",
   "execution_count": 70,
   "metadata": {},
   "outputs": [
    {
     "name": "stdout",
     "output_type": "stream",
     "text": [
      "Base value of X: 0b1100\n",
      "Shifted to the left by 2: 0b110000\n",
      "Shifted to the right by 2: 0b11\n"
     ]
    }
   ],
   "source": [
    "# Bitwise shifting of a number\n",
    "x = 0b1100\n",
    "print(\"Base value of X: \" + bin(x)) # Base value\n",
    "print(\"Shifted to the left by 2: \" + bin(x << 2)) # Shift left by 2\n",
    "print(\"Shifted to the right by 2: \" + bin(x >> 2)) # Shift right by 2\n"
   ]
  },
  {
   "cell_type": "markdown",
   "metadata": {},
   "source": [
    "Now its important that to avoid losing any bits during the shift process, we can avoid this with what's known as masking. This ensures that our result doesn't grow larger by mistake and maintains the 32 bit size of my result."
   ]
  },
  {
   "cell_type": "code",
   "execution_count": 71,
   "metadata": {},
   "outputs": [],
   "source": [
    "# Masking examples here\n",
    "x = 0b1100"
   ]
  },
  {
   "cell_type": "markdown",
   "metadata": {},
   "source": [
    "The final step to tie this together is bitwise operations, which are your classic AND, OR, NOT and XOR gates. These allow us to control our results dynamically......"
   ]
  },
  {
   "cell_type": "code",
   "execution_count": 72,
   "metadata": {},
   "outputs": [
    {
     "name": "stdout",
     "output_type": "stream",
     "text": [
      "0b1000\n",
      "0b1110\n",
      "0b110\n",
      "-0b1101\n"
     ]
    }
   ],
   "source": [
    "# Examples of bitwise operations\n",
    "x = 0b1100\n",
    "y = 0b1010\n",
    "print(bin(x & y)) # Bitwise AND\n",
    "print(bin(x | y)) # Bitwise OR\n",
    "print(bin(x ^ y)) # Bitwise XOR\n",
    "print(bin(~x)) # Bitwise NOT"
   ]
  },
  {
   "cell_type": "markdown",
   "metadata": {},
   "source": [
    "In the end our rotation function looks like the following. It shifts bits left by n positions with (x << n). It then shifts bits that would be lost when shifting left, to the right with (x >> (32 - n)). We put an OR operator between these to combine them. Lastly, we use an AND operator to bring in our masking for ensuring to result stays at 32 bits. "
   ]
  },
  {
   "cell_type": "code",
   "execution_count": 73,
   "metadata": {},
   "outputs": [
    {
     "name": "stdout",
     "output_type": "stream",
     "text": [
      "rotl(0b1100, 2): 0b110000\n",
      "rotl(0b1100, 3): 0b1100000\n"
     ]
    }
   ],
   "source": [
    "import numpy as np\n",
    "import math\n",
    "\n",
    "def rotl(x, n=1):\n",
    "    return ((x << n) | (x >> (32 - n))) & 0xFFFFFFFF # << shifts the bits to left, >> shifts the bits to right.\n",
    "\n",
    "x = 0b1100\n",
    "print(f'rotl(0b1100, 2): {bin(rotl(x, 2))}')\n",
    "print(f'rotl(0b1100, 3): {bin(rotl(x, 3))}')"
   ]
  },
  {
   "cell_type": "markdown",
   "metadata": {},
   "source": [
    "# Demonstrating the use of Rotl(x, n=1) "
   ]
  },
  {
   "cell_type": "markdown",
   "metadata": {},
   "source": [
    "## 2. The function rotr(x, n=1)"
   ]
  },
  {
   "cell_type": "code",
   "execution_count": 74,
   "metadata": {},
   "outputs": [
    {
     "name": "stdout",
     "output_type": "stream",
     "text": [
      "rotr(0b1100, 2): 0b11\n"
     ]
    }
   ],
   "source": [
    "def rotr(x, n=1):\n",
    "    return (x >> n) | ((x << (32 - n)) & 0xFFFFFFFF)\n",
    "\n",
    "x = 0b1100\n",
    "\n",
    "# Test the function.\n",
    "print(f'rotr(0b1100, 2): {bin(rotr(x, 2))}')"
   ]
  },
  {
   "cell_type": "markdown",
   "metadata": {},
   "source": [
    "## 3. The function ch(x, y, z)"
   ]
  },
  {
   "cell_type": "markdown",
   "metadata": {},
   "source": [
    "For this function we need to make use of bit selection logic using bitwise operators on our chosen binary values. In this particular implementation: \n",
    "\n",
    "- For each bit position of x being 1, we choose the associated or corresponding bit from y.\n",
    "- For each bit position of x being 0, we choose the corresponding bit from z.\n",
    "\n",
    "Let me further break down how to accomplish this: \n",
    "Using (x & y) will take bits from y where x has 1s.\n",
    "Using  ()"
   ]
  },
  {
   "cell_type": "code",
   "execution_count": 75,
   "metadata": {},
   "outputs": [
    {
     "name": "stdout",
     "output_type": "stream",
     "text": [
      "ch(0b1100, 0b1010, 0b1001): 0b1001\n"
     ]
    }
   ],
   "source": [
    "def ch(x, y, z): # choose between x, y, z. \n",
    "    return (x & y) ^ (~x & z) # & is bitwise AND, ^ is bitwise XOR, ~ is bitwise NOT. So this returns x AND y XOR NOT x AND z.\n",
    "\n",
    "x = 0b1100\n",
    "y = 0b1010\n",
    "z = 0b1001\n",
    "\n",
    "print(f'ch(0b1100, 0b1010, 0b1001): {bin(ch(x, y, z))}')"
   ]
  },
  {
   "cell_type": "markdown",
   "metadata": {},
   "source": [
    "## 4. The function maj(x, y, z)"
   ]
  },
  {
   "cell_type": "code",
   "execution_count": 76,
   "metadata": {},
   "outputs": [
    {
     "name": "stdout",
     "output_type": "stream",
     "text": [
      "maj(0b1100, 0b1010, 0b1001): 0b1000\n",
      "maj(0b1100, 0b1010, 0b1010): 0b1010\n"
     ]
    }
   ],
   "source": [
    "def maj(x, y, z): # Takes a majority vote of x, y, z.\n",
    "    return (x & y) ^ (x & z) ^ (y & z) # ^ means XOR. So this returns x AND y XOR x AND z XOR y AND z.\n",
    "\n",
    "x = 0b1100\n",
    "y = 0b1010\n",
    "z = 0b1001\n",
    "\n",
    "x1 = 0b1100\n",
    "y1 = 0b1010\n",
    "z1 = 0b1010\n",
    "\n",
    "# Examples\n",
    "print(f'maj(0b1100, 0b1010, 0b1001): {bin(maj(x, y, z))}')\n",
    "print(f'maj(0b1100, 0b1010, 0b1010): {bin(maj(x1, y1, z1))}')"
   ]
  },
  {
   "cell_type": "markdown",
   "metadata": {},
   "source": [
    "## Task 2: Hash Functions\n",
    "The following hash function is from The C Programming Language by Brian Kernighan and Dennis Ritchie.\n",
    "Convert it to Python, test it, and suggest why the values 31 and 101 are used.\n",
    "\n",
    "unsigned hash(char *s) {\n",
    "    unsigned hashval;\n",
    "    for (hashval = 0; *s != '\\0'; s++)\n",
    "        hashval = *s + 31 * hashval;\n",
    "    return hashval % 101;\n",
    "}"
   ]
  },
  {
   "cell_type": "markdown",
   "metadata": {},
   "source": [
    "I'll now convert this hash function from the C Programming language to python. This will require quite a few changes to the code. We don't need to declare variable types. While the hash function in C uses pointer's and null terminator checking, Python makes this much simpler as we can just iterate directly over the string. The Hash function that we're converting in this process is from page 128 - 129 of [The C Programming Language](https://seriouscomputerist.atariverse.com/media/pdf/book/C%20Programming%20Language%20-%202nd%20Edition%20(OCR).pdf) by Brian Kernighan and Dennis Ritchie."
   ]
  },
  {
   "cell_type": "code",
   "execution_count": 77,
   "metadata": {},
   "outputs": [],
   "source": [
    "def Hash_string(s): # No need to declare var, just use it with the input, no pointer.\n",
    "    hashval = 0 # No use of 'unsigned' in Python.\n",
    "    # Iterate directly over string.\n",
    "    for c in s:\n",
    "        hashval = ord(c) + 31 * hashval # ord() returns ASCII value of char, 31 is prime number, good for hashing.\n",
    "    return hashval % 101 # Modulus is unchanged, 101 is prime number, reduces collisions."
   ]
  },
  {
   "cell_type": "markdown",
   "metadata": {},
   "source": [
    "The final conversion would look like this. Rather than dereferencing the character pointer in C, we can use Python's [ord() function](https://docs.python.org/3.4/library/functions.html#ord) to pull out the relevant [ASCII value](https://www.ascii-code.com/) of a character. THe modulus element on the hashVal has no necessary changes."
   ]
  },
  {
   "cell_type": "markdown",
   "metadata": {},
   "source": [
    "The numbers 31 and 101 are prime numbers. To my knowledge, using prime numbers for hash values gives us a smoother distribution. 101 helps determine our hash table size and reduce collisions which can quite easily come up. "
   ]
  },
  {
   "cell_type": "code",
   "execution_count": 78,
   "metadata": {},
   "outputs": [
    {
     "name": "stdout",
     "output_type": "stream",
     "text": [
      "Hash_string(\"hello\"): 17\n",
      "Hash_string(\"world\"): 34\n",
      "Hash_string(\"hello world\"): 13\n"
     ]
    }
   ],
   "source": [
    "# Testing Hash function\n",
    "print(f'Hash_string(\"hello\"): {Hash_string(\"hello\")}')\n",
    "print(f'Hash_string(\"world\"): {Hash_string(\"world\")}')\n",
    "print(f'Hash_string(\"hello world\"): {Hash_string(\"hello world\")}')"
   ]
  },
  {
   "cell_type": "markdown",
   "metadata": {},
   "source": [
    "## Task 3: SHA256\n",
    "\n",
    "Write a Python function that calculates the SHA256 padding for a given file.  \n",
    "The function should take a file path as input.  \n",
    "It should print, in hex, the padding that would be applied to it.  \n",
    "The [specification](https://doi.org/10.6028/NIST.FIPS.180-4) states that the following should be appended to a message:  \n",
    "\n",
    "- a`1` bit;\n",
    "- enough `0` bits so the length in bits of padded message is the smallest possible multiple of 512;\n",
    "- the length in bits of the original input as a big-endian 64-bit unsigned integer.\n",
    "\n",
    "The example in the specification is a file containing the three bytes `abc`:  \n",
    "\n",
    "```python\n",
    "01100001 01100010 01100011\n",
    "```\n",
    "\n",
    "The output would be:  \n",
    "\n",
    "```python\n",
    "80 00 00 00 00 00 00 00 00 00 00 00 00 00 00 00 00 00 00 00 00 00 00 00 00 00\n",
    "00 00 00 00 00 00 00 00 00 00 00 00 00 00 00 00 00 00 00 00 00 00 00 00 00 00\n",
    "00 00 00 00 00 00 00 00 18\n",
    "```"
   ]
  },
  {
   "cell_type": "markdown",
   "metadata": {},
   "source": [
    "So for this task, we need to calculate the SHA256 padding for a file supplied in the method as input. Ideally, I should adhere to the NIST FIPS 180-4 specification during this process. --- Add Ref here. In the end I'll be returning the padding as a collection of bytes."
   ]
  },
  {
   "cell_type": "markdown",
   "metadata": {},
   "source": [
    "We first need to read in the file as a collection of bytes. This is farely easy and selfexplanatory to implement. Right after that we calculate the original content length in bits. "
   ]
  },
  {
   "cell_type": "code",
   "execution_count": 79,
   "metadata": {},
   "outputs": [
    {
     "name": "stdout",
     "output_type": "stream",
     "text": [
      "Length of file in bits: 24\n"
     ]
    }
   ],
   "source": [
    "\n",
    "# Create a file called file.txt with our three bytes in it for example purposes.\n",
    "file = 'file.txt'\n",
    "\n",
    "with open(file, 'w') as f: # For testing purposes, write some text to a file.\n",
    "    f.write('abc')\n",
    "\n",
    "# Read in the file\n",
    "with open(file, 'rb') as f:\n",
    "    data = f.read()\n",
    "\n",
    "# Calculate length in bits of the file\n",
    "length = len(data) * 8\n",
    "\n",
    "print(f'Length of file in bits: {length}')"
   ]
  },
  {
   "cell_type": "markdown",
   "metadata": {},
   "source": [
    "Following the length calculation, we should follow the SHA-256 specification for applying padding. First off, I'll add a single '1' bit as a hexidecimal (0x80). We need to add enough '0' bits so the total length of our file (including both the original length, the padding and 64 bits) is a multiple of 512 bits. "
   ]
  },
  {
   "cell_type": "code",
   "execution_count": 80,
   "metadata": {},
   "outputs": [],
   "source": [
    "### Example Code here\n"
   ]
  },
  {
   "cell_type": "markdown",
   "metadata": {},
   "source": [
    "We use the calculation padding_needed = 56 - ((len(data) + 1) % 64) to ensure we leave exactly 64 bits (or 8 bytes) at the end of the file. "
   ]
  },
  {
   "cell_type": "code",
   "execution_count": 81,
   "metadata": {},
   "outputs": [],
   "source": [
    "### Example Code here"
   ]
  },
  {
   "cell_type": "markdown",
   "metadata": {},
   "source": [
    "Following this, we add back the original length of the file as a 64 bit big-endian unsigned integer. "
   ]
  },
  {
   "cell_type": "code",
   "execution_count": 82,
   "metadata": {},
   "outputs": [],
   "source": [
    "### Final Sha256 Method\n",
    "\n",
    "# Calculate the SHA256 padding of a string from a giving file.\n",
    "def SHA256_padding(file):\n",
    "    # Read in the file\n",
    "    with open(file, 'rb') as f:\n",
    "        data = f.read()\n",
    "\n",
    "    # Calculate length in bits of the file, multiply by 8 to get bits as there is 8 bits in a byte.\n",
    "    original_length = len(data) * 8\n",
    "\n",
    "    # Add a '1' bit to the end of the data, in hex this would be 0x80 or 10000000 in python.\n",
    "    padding = bytearray([0x80])\n",
    "\n",
    "    # Add enough '0' bits so the total length is 448 mod 512 bits.\n",
    "    # So the original length + 1 + padding) % 64 = 56, we need 56 to be the remainder. \n",
    "    padding_zeros = 56 - ((len(data) + 1) % 64)\n",
    "    # if we reach the 56-bye mark, add another block. So we dynamically add padding needed to the file. \n",
    "    if padding_zeros < 0:\n",
    "        padding_zeros += 64.\n",
    "\n",
    "    # Add original length of file in bits, this must be a 64 big-endian unsigned integer. So as to not overflow.\n",
    "    padding.extend([0] * padding_zeros)\n",
    "    padding.extend(original_length.to_bytes(8, byteorder='big'))\n",
    "\n",
    "\n",
    "    # Print this padding in hexidecimal. \n",
    "    print(\"SHA256 padding in hexidecimal format: \")\n",
    "    for i, byte in enumerate(padding):\n",
    "        print(f'{byte:02x}', end=' ')\n",
    "        if (i + 1) % 25 == 0: # Print 25 bytes per line for simplicity and readability.\n",
    "            print()\n",
    "        if len(padding) % 25 != 0:\n",
    "            print() # Print a newline if the padding is not a multiple of 25 bytes.\n",
    "    \n",
    "    return padding # Return the padding at the end. "
   ]
  },
  {
   "cell_type": "markdown",
   "metadata": {},
   "source": [
    "## Example explanation"
   ]
  },
  {
   "cell_type": "code",
   "execution_count": 83,
   "metadata": {},
   "outputs": [
    {
     "name": "stdout",
     "output_type": "stream",
     "text": [
      "SHA256 padding in hexidecimal format: \n",
      "80 \n",
      "00 \n",
      "00 \n",
      "00 \n",
      "00 \n",
      "00 \n",
      "00 \n",
      "00 \n",
      "00 \n",
      "00 \n",
      "00 \n",
      "00 \n",
      "00 \n",
      "00 \n",
      "00 \n",
      "00 \n",
      "00 \n",
      "00 \n",
      "00 \n",
      "00 \n",
      "00 \n",
      "00 \n",
      "00 \n",
      "00 \n",
      "00 \n",
      "\n",
      "00 \n",
      "00 \n",
      "00 \n",
      "00 \n",
      "00 \n",
      "00 \n",
      "00 \n",
      "00 \n",
      "00 \n",
      "00 \n",
      "00 \n",
      "00 \n",
      "00 \n",
      "00 \n",
      "00 \n",
      "00 \n",
      "00 \n",
      "00 \n",
      "00 \n",
      "00 \n",
      "00 \n",
      "00 \n",
      "00 \n",
      "00 \n",
      "00 \n",
      "\n",
      "00 \n",
      "00 \n",
      "00 \n",
      "00 \n",
      "00 \n",
      "00 \n",
      "00 \n",
      "00 \n",
      "00 \n",
      "00 \n",
      "18 \n"
     ]
    }
   ],
   "source": [
    "### Example usage with a test file. \n",
    "def test_sha256_padding():\n",
    "    # Create a test file with \"abc\"\n",
    "    with open(\"test_file.txt\", \"wb\") as f:\n",
    "        f.write(b\"abc\")\n",
    "    \n",
    "    # Calculate and print the padding\n",
    "    padding = SHA256_padding(\"test_file.txt\")\n",
    "    return padding\n",
    "\n",
    "# Test the function\n",
    "padding = test_sha256_padding()\n"
   ]
  },
  {
   "cell_type": "markdown",
   "metadata": {},
   "source": [
    "## Task 4: Prime Numbers\n",
    "\n",
    "Calculate the first 100 prime numbers using two different algorithms.  \n",
    "Any algorithms that are well-established and works correctly are okay to use.  \n",
    "Explain how the algorithms work."
   ]
  },
  {
   "cell_type": "markdown",
   "metadata": {},
   "source": [
    "Insert links here for each algorithm\n",
    "\n",
    "## Division with square roots\n",
    "The basic process for this algorithm for checking if a number is prime involves finding out if its divisible by any smaller numbers than it. We do this through using its square roots. This is useful, as we only need to check if a number divides into our square root of n because: \n",
    "- If its a multiple of n, then either a or b must be included in its square root. \n",
    "\n",
    "\n"
   ]
  },
  {
   "cell_type": "code",
   "execution_count": 84,
   "metadata": {},
   "outputs": [],
   "source": [
    "# Insert edge cases here"
   ]
  },
  {
   "cell_type": "markdown",
   "metadata": {},
   "source": [
    "We than proceed to check each number in sequence, adding it to our list if its a prime and leaving it be if it isn't one. We continue this process until we hopefully reach 100 prime numbers. "
   ]
  },
  {
   "cell_type": "code",
   "execution_count": 85,
   "metadata": {},
   "outputs": [],
   "source": [
    "# Insert main while loop here"
   ]
  },
  {
   "cell_type": "markdown",
   "metadata": {},
   "source": []
  },
  {
   "cell_type": "code",
   "execution_count": 86,
   "metadata": {},
   "outputs": [],
   "source": [
    "import numpy as np\n",
    "import matplotlib.pyplot as plt\n",
    "import time\n",
    "\n",
    "def test_prime(n):\n",
    "    # Test if a number is prime by checking if it is divisible by any number up to its square root. n is the number to test.\n",
    "\n",
    "    # We only need to test numbers of the form \"6k±1\" since all primes higher than a 3 are of this form. \n",
    "    # In order to do this, we must check the edge cases of 2 and 3 separately. Once we've checked 2 we know its not even.\n",
    "    if n <= 1: # Check if n is less than or equal to 1, if so, return False.\n",
    "        return False\n",
    "    if n <= 3: # Check if n is less than or equal to 3, if so, return True.\n",
    "        return True\n",
    "    if n % 2 == 0 or n % 3 == 0: # Check if n is divisible by 2 or 3, if so, return False.\n",
    "        return False\n",
    "    \n",
    "    # Check all numbers of the form \"6k±1\" up to the square root of n.\n",
    "    i = 5 # Start at 5, since we've already checked 2 and 3.\n",
    "    while i * i <= n: # Check if i squared is less than or equal to n.\n",
    "        if n % i == 0 or n % (i + 2) == 0: # Check if n can be divided by i or i + 2, return False if so.\n",
    "            return False\n",
    "        i += 6 # Increment i by 6, since we're checking numbers of the \"6k±1\" form.\n",
    "    return True\n",
    "\n",
    "    \n",
    "    "
   ]
  },
  {
   "cell_type": "markdown",
   "metadata": {},
   "source": [
    "Here is a simple function for running that algorithm a number of times equal to the user's desire."
   ]
  },
  {
   "cell_type": "code",
   "execution_count": 87,
   "metadata": {},
   "outputs": [],
   "source": [
    "def find_primes(count):\n",
    "    # Find the first x number of primes based on the count given.\n",
    "    primes = [] # Create an empty list to store our found primes.\n",
    "    num = 2 # Start at 2, the first prime number.\n",
    "\n",
    "    # Loop until we have found the desired number of primes.\n",
    "    while len(primes) < count:\n",
    "        if test_prime(num):\n",
    "            primes.append(num)\n",
    "        num += 1\n",
    "\n",
    "    return primes"
   ]
  },
  {
   "cell_type": "markdown",
   "metadata": {},
   "source": [
    "# Testing with Examples"
   ]
  },
  {
   "cell_type": "code",
   "execution_count": 88,
   "metadata": {},
   "outputs": [
    {
     "name": "stdout",
     "output_type": "stream",
     "text": [
      "[2, 3, 5, 7, 11, 13, 17, 19, 23, 29, 31, 37, 41, 43, 47, 53, 59, 61, 67, 71, 73, 79, 83, 89, 97, 101, 103, 107, 109, 113, 127, 131, 137, 139, 149, 151, 157, 163, 167, 173, 179, 181, 191, 193, 197, 199, 211, 223, 227, 229, 233, 239, 241, 251, 257, 263, 269, 271, 277, 281, 283, 293, 307, 311, 313, 317, 331, 337, 347, 349, 353, 359, 367, 373, 379, 383, 389, 397, 401, 409, 419, 421, 431, 433, 439, 443, 449, 457, 461, 463, 467, 479, 487, 491, 499, 503, 509, 521, 523, 541]\n"
     ]
    }
   ],
   "source": [
    "primes = find_primes(100)\n",
    "\n",
    "print(primes)"
   ]
  },
  {
   "cell_type": "markdown",
   "metadata": {},
   "source": [
    "## Sieve Algorithm\n",
    "THe previous method works overall, but it's quite a brute force approach to the issue. Instead we could explore using the Sieve approach (reference links here). Instead of testing every individual number as we progress through sequentially, we can eliminate the composite numbers systematically, allowing us to widdle it down to the 100 primes we need. "
   ]
  },
  {
   "cell_type": "markdown",
   "metadata": {},
   "source": [
    "We start with a list of numbers, we'll choose a minimum and a maximum of 2 and 1000."
   ]
  },
  {
   "cell_type": "code",
   "execution_count": null,
   "metadata": {},
   "outputs": [],
   "source": []
  },
  {
   "cell_type": "markdown",
   "metadata": {},
   "source": [
    "At first, we'll assume all numbers are primes. Then as we loop through them all, we'll mark all the multiples of each prime as false or not prime. Any numbers that aren't marked by this are found as primes. This approach is quite a bit more effective and efficient in comparison to our last algorithm. We only need to search up to a certain limit, because larger factors of a prime would have been marked by their smaller counterparts already. Additionally, each number is marked only once for each of its prime numbers, rather than repeatedly parsing over familiar numbers within the previous algorithm."
   ]
  },
  {
   "cell_type": "code",
   "execution_count": 89,
   "metadata": {},
   "outputs": [
    {
     "name": "stdout",
     "output_type": "stream",
     "text": [
      "[2, 3, 5, 7, 11, 13, 17, 19, 23, 29, 31, 37, 41, 43, 47, 53, 59, 61, 67, 71, 73, 79, 83, 89, 97, 101, 103, 107, 109, 113, 127, 131, 137, 139, 149, 151, 157, 163, 167, 173, 179, 181, 191, 193, 197, 199, 211, 223, 227, 229, 233, 239, 241, 251, 257, 263, 269, 271, 277, 281, 283, 293, 307, 311, 313, 317, 331, 337, 347, 349, 353, 359, 367, 373, 379, 383, 389, 397, 401, 409, 419, 421, 431, 433, 439, 443, 449, 457, 461, 463, 467, 479, 487, 491, 499, 503, 509, 521, 523, 541]\n"
     ]
    }
   ],
   "source": [
    "def findPrimesUsingSieve(count):\n",
    "    # Find the first x number of primes based on the count given.\n",
    "    limit = 1000 # Set a limit for the sieve.\n",
    "\n",
    "    # Initialize the sieve list.\n",
    "    sieve = [True] * (limit + 1) # Create a list of True values, one for each number up to the limit.\n",
    "    # Set the first two values to False, since they are not prime.\n",
    "    sieve[0] = False \n",
    "    sieve[1] = False\n",
    "\n",
    "    # Loop through the sieve and set all multiples of each number to False.\n",
    "    for i in range(2, int(np.sqrt(limit)) + 1): # Loop through up to square root of limit.\n",
    "        if sieve[i]: # If the number is prime.\n",
    "            for j in range(i * i, limit + 1, i): # Loop through all multiples of the number.\n",
    "                sieve[j] = False # Set the multiple to False.\n",
    "\n",
    "    # Loop through the sieve and add all prime numbers to the list.\n",
    "    primes = [] # Create empty list to store found primes.\n",
    "    for i in range(limit + 1):\n",
    "        if sieve[i]: # If number is prime.\n",
    "            primes.append(i) # Add number to list.\n",
    "            if len(primes) == count: # Once we reach count, break loop.\n",
    "                break\n",
    "\n",
    "    return primes\n",
    "\n",
    "\n",
    "print(findPrimesUsingSieve(100))"
   ]
  },
  {
   "cell_type": "code",
   "execution_count": 90,
   "metadata": {},
   "outputs": [
    {
     "name": "stdout",
     "output_type": "stream",
     "text": [
      "\n",
      "Both algorithms produce the same results: True\n"
     ]
    }
   ],
   "source": [
    "# Compare the results to ensure they match\n",
    "print(f\"\\nBoth algorithms produce the same results: {find_primes(100) == findPrimesUsingSieve(100)}\")"
   ]
  },
  {
   "cell_type": "markdown",
   "metadata": {},
   "source": [
    "Its worth noting that the Sieve algorithm seems far more effective, particularly in terms of speed. This is generally due to the fact that it eliminates multiple composite numbers with each of its loops, instead of individually. It marks off all the multiples of the known primes, avoiding redundancy. As you can imagine, this is especially effective for larger numbers that possess many factors. Sieve has a handy amorphous nature to it, working across the entire range of numbers rather than singularly. "
   ]
  },
  {
   "cell_type": "markdown",
   "metadata": {},
   "source": [
    "### Task 5: Roots\n",
    "Calculate the first 32 bits of the fractional part of the square roots of the first 100 prime numbers."
   ]
  },
  {
   "cell_type": "markdown",
   "metadata": {},
   "source": [
    "So our aim with this task is to take the first 100 prime numbers (which we've gathered in our previous task) and calculate the first 32 bits of eah of their fractional parts of their square roots. First off, lets get the square root of each prime number. To do this in python, you multiply against the power of 0.5 of your prime. As shown below, for example purposes I've used 7 as its a fairly common prime number. "
   ]
  },
  {
   "cell_type": "code",
   "execution_count": 91,
   "metadata": {},
   "outputs": [
    {
     "name": "stdout",
     "output_type": "stream",
     "text": [
      "root: 2.6457513110645907\n"
     ]
    }
   ],
   "source": [
    "prime = 7\n",
    "root = prime ** 0.5 # Square root is written as a power of 0.5 in Python.\n",
    "print(f'root: {root}')"
   ]
  },
  {
   "cell_type": "markdown",
   "metadata": {},
   "source": [
    "After this we need to extract the fractional parts of our square root. The fractional parts is (as the name suggests) anything after the decimal point. So for the square root of 7: 2.6457513110645907, it'd be 6457513110645907. To extract the fractional part of our square rooted prime in python, I think my best option is to use math.floor and take that away from our root to get the fractional part. "
   ]
  },
  {
   "cell_type": "code",
   "execution_count": 92,
   "metadata": {},
   "outputs": [
    {
     "name": "stdout",
     "output_type": "stream",
     "text": [
      "frac: 0.6457513110645907\n"
     ]
    }
   ],
   "source": [
    "frac = root - math.floor(root) # Subtract the floor of the root from the root to get the fractional part.\n",
    "print(f'frac: {frac}')"
   ]
  },
  {
   "cell_type": "markdown",
   "metadata": {},
   "source": [
    "Next up is where we dive into bits territory. In this case, we need to represent our fractional part (such as .6457513110645907) as a 32 bit value (like ). We can do this by "
   ]
  },
  {
   "cell_type": "code",
   "execution_count": null,
   "metadata": {},
   "outputs": [
    {
     "name": "stdout",
     "output_type": "stream",
     "text": [
      "frac: 2773480762.37154\n",
      "bits: 2773480762\n"
     ]
    }
   ],
   "source": [
    "frac = frac * (2 ** 32) # Multiply the fractional part by 2^32 to get the fractional part in integer form.\n",
    "print(f'frac: {frac}')\n",
    "\n",
    "# Convert to integer through truncation so we only have the integer part.\n",
    "bits = int(frac)\n",
    "print(f'bits: {bits}')"
   ]
  },
  {
   "cell_type": "markdown",
   "metadata": {},
   "source": [
    "Now that we've accomplished this algorithm step by step. I'll combine this together into a singular method."
   ]
  },
  {
   "cell_type": "code",
   "execution_count": null,
   "metadata": {},
   "outputs": [],
   "source": []
  }
 ],
 "metadata": {
  "kernelspec": {
   "display_name": "Python 3",
   "language": "python",
   "name": "python3"
  },
  "language_info": {
   "codemirror_mode": {
    "name": "ipython",
    "version": 3
   },
   "file_extension": ".py",
   "mimetype": "text/x-python",
   "name": "python",
   "nbconvert_exporter": "python",
   "pygments_lexer": "ipython3",
   "version": "3.12.1"
  }
 },
 "nbformat": 4,
 "nbformat_minor": 2
}
